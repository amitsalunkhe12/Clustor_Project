{
 "cells": [
  {
   "cell_type": "markdown",
   "id": "0cf05da7-4564-4765-9648-0f28a67ea249",
   "metadata": {},
   "source": [
    "<div style=\"text-align: center; font-size: 30px;\">\n",
    "    <b>KMeans Cluster Customer Segmentation</b>\n",
    "</div>"
   ]
  },
  {
   "cell_type": "markdown",
   "id": "d2c91dc7-a1ce-4c80-a222-6a769d98c215",
   "metadata": {},
   "source": [
    "## 1) Understanding Problem Statement\n",
    "---\n",
    "\n",
    "### Problem Statement:\n",
    "Online retailers have a vast customer base with diverse shopping behaviors. To enhance marketing strategies and customer engagement, there is a need to segment customers into distinct groups based on their recency, frequency and monetary (RFM) characteristics. This project aims to segment customers effectively to provide tailored marketing campaigns and improve overall business performance.\n",
    "\n",
    "### Approach:\n",
    "Given that the data is already available, the approach involves preprocessing the existing online retail transaction data, calculating **RFM metrics*, applying **K-Means**  for customer segmentation, interpreting and labeling clusters and using insights to optimize marketing strategies and enhance customer engagement.\n",
    "\n",
    "### Objective:\n",
    "To effectively segment online retail customers based on their RFM characteristics using clustering techniques (K-Means) to improve targeted marketing, boost revenue, enhance customer retention, optimize inventory management and increase overall customer satisfaction.\n",
    "\n",
    "### Benefits:\n",
    "The benefits of this solution include:\n",
    "\n",
    "- **Improved Customer Engagement:** Tailored marketing campaigns and personalized recommendations for each customer segment lead to higher engagement and conversion rates.\n",
    "\n",
    "- **Increased Revenue:** Targeting high-value customer segments with the right offers can boost sales and revenue.\n",
    "\n",
    "- **Customer Retention:** Identifying at-risk and churned customer segments allows for proactive retention efforts.\n",
    "\n",
    "- **Resource Optimization:** Efficient allocation of resources in inventory management and marketing efforts based on customer preferences.\n",
    "\n",
    "- **Enhanced Customer Satisfaction:** Providing customers with products and offers that match their preferences leads to higher satisfaction and loyalty.\n",
    "\n",
    "- **Data-Driven Decision Making:** The project promotes data-driven decision-making, helping the company adapt to changing customer behaviors and market trends.\n",
    "\n",
    "- **Competitive Advantage:** The ability to understand and cater to customer segments better can provide a competitive edge in the online retail industry."
   ]
  },
  {
   "cell_type": "markdown",
   "id": "5ae9072e-e621-4a4e-a4d2-113f53c22fb9",
   "metadata": {},
   "source": [
    "![Online Image](https://tudip.com/wp-content/uploads/2021/07/What_is_KMEANS_Unsupervised_Learning_Algorithm_02.png)"
   ]
  },
  {
   "cell_type": "markdown",
   "id": "1ff863b5-b008-4a99-a119-1be8bb3ec092",
   "metadata": {},
   "source": [
    "## 2) Understanding concept of RFM Analysis\n",
    "---\n",
    "\n",
    "### Recency Frequency Monetary (RFM) Analysis\n",
    "\n",
    "RFM Analysis is a **customer segmentation technique** used by businesses to better understand and categorize their customers based on their **past purchasing behavior**. This approach helps companies identify and target specific customer groups for marketing and personalization efforts. Here's a breakdown of the three components of RFM Analysis:\n",
    "\n",
    "1. **Recency (R):** Recency refers to **how recently a customer has made a purchase or interacted with your business**. It is typically measured in terms of the **number of days since the last purchase or interaction**. Customers who have engaged with your business **more recently** are often considered **more valuable** because they are more likely to make repeat purchases.\n",
    "\n",
    "   - Example: A customer who made a purchase 3 days ago is considered more recent than a customer who made a purchase 3 months ago.\n",
    "\n",
    "2. **Frequency (F):** Frequency measures **how often a customer makes purchases or interacts with your business** over a specific period such as a year. It represents **customer loyalty and engagement**. Customers who buy from you frequently are more likely to be loyal and responsive to promotions.\n",
    "\n",
    "   - Example: A customer who makes monthly purchases is considered more frequent than a customer who makes annual purchases.\n",
    "\n",
    "3. **Monetary (M):** Monetary represents the **total amount of money a customer has spent on your products or services**. It helps determine the **value or profitability of each customer**. Customers who have **spent more money** are typically considered **high-value customers**.\n",
    "\n",
    "   - Example: A customer who has spent Rs. 1,000 with your business is considered more valuable than a customer who has spent Rs. 100.\n",
    "\n",
    "<br>\n",
    "\n",
    "### Approach behind RFM Analysis\n",
    "\n",
    "RFM Analysis involves **scoring or ranking** customers based on these three dimensions. Each dimension is typically divided into **categories or percentiles** (e.g. quintiles or deciles) and customers are assigned scores or labels based on where they fall within these categories. For example, you might score recency from 1 to 5, with 5 being the most recent and do the same for frequency and monetary value. Once customers are assigned RFM scores, they can be segmented into different groups. These segments can then be used for various marketing and customer engagement strategies such as:\n",
    "\n",
    "- **Targeted marketing campaigns:** Focus marketing efforts on high RFM-score segments that are more likely to respond positively.\n",
    "- **Customer retention:** Identify at-risk customers (e.g. low frequency or monetary value) and implement strategies to retain them.\n",
    "- **Personalization:** Tailor product recommendations or content to match the preferences and behavior of each segment.\n",
    "- **Product development:** Use RFM insights to inform product or service offerings for different customer segments.\n",
    "\n",
    "<br>\n",
    "\n",
    "### Real Life Industry Applications\n",
    "\n",
    "1. **Retail Industry:**\n",
    "   - **Promotion Targeting:** Retailers use RFM segments to identify high-value customers who are more likely to respond positively to discounts and promotions. They can then tailor their marketing campaigns to specifically target these segments.\n",
    "   - **Inventory Management:** RFM can help retailers manage inventory by understanding which products are most popular among different customer segments. This information helps optimize stock levels and product placement.\n",
    "\n",
    "2. **E-commerce:**\n",
    "   - **Personalized Recommendations:** Online retailers use RFM data to provide personalized product recommendations to customers based on their past behavior, increasing the likelihood of additional purchases.\n",
    "   - **Cart Abandonment Recovery:** RFM can help identify customers who frequently abandon their shopping carts. Retailers can then send targeted follow-up emails or incentives to encourage them to complete their purchases.\n",
    "\n",
    "3. **Hospitality and Tourism:**\n",
    "   - **Customer Loyalty Programs:** Hotels and airlines use RFM analysis to reward loyal customers with special offers, upgrades or discounts thereby encouraging repeat bookings.\n",
    "   - **Seasonal Pricing:** Understanding the recency and frequency of bookings allows businesses in this sector to adjust pricing strategies for different seasons and periods of high demand.\n",
    "\n",
    "4. **Financial Services:**\n",
    "   - **Risk Assessment:** Banks and insurance companies use RFM Analysis to assess customer risk. Customers who exhibit erratic behavior in terms of recency, frequency and monetary transactions may be flagged for further review.\n",
    "   - **Cross-Selling:** Financial institutions can identify opportunities to cross-sell or upsell products and services to customers based on their RFM profiles.\n",
    "\n",
    "5. **Subscription Services:**\n",
    "   - **Churn Prediction:** Subscription-based businesses like streaming services or SaaS companies use RFM to predict customer churn. They can then take proactive measures to retain customers showing signs of disengagement.\n",
    "   - **Tiered Pricing:** Different subscription tiers can be offered to customers based on their RFM scores, ensuring that they receive the level of service that matches their value to the business.\n",
    "\n",
    "6. **Healthcare:**\n",
    "   - **Patient Engagement:** Healthcare providers use RFM to segment patients and tailor communication strategies to encourage regular check-ups or follow-up appointments.\n",
    "   - **Medication Adherence:** Understanding the frequency and recency of prescription refills can help healthcare professionals identify patients who may need additional support to adhere to their treatment plans.\n",
    "\n",
    "7. **Nonprofits and Fundraising:**\n",
    "   - **Donor Engagement:** Nonprofit organizations analyze RFM to identify and engage with their most committed donors, helping to optimize fundraising efforts and donor retention.\n",
    "   - **Campaign Effectiveness:** Understanding the monetary contributions and recency of donations can help nonprofits assess the success of various fundraising campaigns."
   ]
  },
  {
   "cell_type": "code",
   "execution_count": 2,
   "id": "4b52811d-f066-4743-9a36-ad83db2706f0",
   "metadata": {},
   "outputs": [],
   "source": [
    "import numpy as np\n",
    "import pandas as pd\n",
    "import seaborn as sns\n",
    "import matplotlib.pyplot as plt\n",
    "from sklearn.preprocessing import StandardScaler, OneHotEncoder\n",
    "from sklearn.cluster import KMeans\n",
    "from sklearn.metrics import silhouette_score\n",
    "import warnings\n",
    "warnings.filterwarnings(\"ignore\")"
   ]
  },
  {
   "cell_type": "markdown",
   "id": "d18c895f-3c1e-447c-a0bf-3e07ec5c5490",
   "metadata": {},
   "source": [
    "## 1. Load the Data"
   ]
  },
  {
   "cell_type": "code",
   "execution_count": 3,
   "id": "c2762972-36a7-4f37-89ef-cd695b901e0f",
   "metadata": {},
   "outputs": [],
   "source": [
    "df = pd.read_csv(r\"F:\\mentorship program of upGrad\\Online Retail2.csv\", encoding = 'ISO-8859-1')"
   ]
  },
  {
   "cell_type": "markdown",
   "id": "e9b5510f-f528-4611-af3a-295cd4507b62",
   "metadata": {},
   "source": [
    "## 2. Understand the Data"
   ]
  },
  {
   "cell_type": "markdown",
   "id": "92a304fd-f5ab-4b5b-a312-ab66dde8929b",
   "metadata": {},
   "source": [
    "## 2.1 top 5 rows"
   ]
  },
  {
   "cell_type": "code",
   "execution_count": 4,
   "id": "dd139545-b645-4880-8b50-9d5410b40049",
   "metadata": {},
   "outputs": [
    {
     "data": {
      "text/html": [
       "<div>\n",
       "<style scoped>\n",
       "    .dataframe tbody tr th:only-of-type {\n",
       "        vertical-align: middle;\n",
       "    }\n",
       "\n",
       "    .dataframe tbody tr th {\n",
       "        vertical-align: top;\n",
       "    }\n",
       "\n",
       "    .dataframe thead th {\n",
       "        text-align: right;\n",
       "    }\n",
       "</style>\n",
       "<table border=\"1\" class=\"dataframe\">\n",
       "  <thead>\n",
       "    <tr style=\"text-align: right;\">\n",
       "      <th></th>\n",
       "      <th>InvoiceNo</th>\n",
       "      <th>StockCode</th>\n",
       "      <th>Description</th>\n",
       "      <th>Quantity</th>\n",
       "      <th>InvoiceDate</th>\n",
       "      <th>UnitPrice</th>\n",
       "      <th>CustomerID</th>\n",
       "      <th>Country</th>\n",
       "    </tr>\n",
       "  </thead>\n",
       "  <tbody>\n",
       "    <tr>\n",
       "      <th>0</th>\n",
       "      <td>536365</td>\n",
       "      <td>85123A</td>\n",
       "      <td>WHITE HANGING HEART T-LIGHT HOLDER</td>\n",
       "      <td>6</td>\n",
       "      <td>01-12-2010 08:26</td>\n",
       "      <td>2.55</td>\n",
       "      <td>17850.0</td>\n",
       "      <td>United Kingdom</td>\n",
       "    </tr>\n",
       "    <tr>\n",
       "      <th>1</th>\n",
       "      <td>536365</td>\n",
       "      <td>71053</td>\n",
       "      <td>WHITE METAL LANTERN</td>\n",
       "      <td>6</td>\n",
       "      <td>01-12-2010 08:26</td>\n",
       "      <td>3.39</td>\n",
       "      <td>17850.0</td>\n",
       "      <td>United Kingdom</td>\n",
       "    </tr>\n",
       "    <tr>\n",
       "      <th>2</th>\n",
       "      <td>536365</td>\n",
       "      <td>84406B</td>\n",
       "      <td>CREAM CUPID HEARTS COAT HANGER</td>\n",
       "      <td>8</td>\n",
       "      <td>01-12-2010 08:26</td>\n",
       "      <td>2.75</td>\n",
       "      <td>17850.0</td>\n",
       "      <td>United Kingdom</td>\n",
       "    </tr>\n",
       "    <tr>\n",
       "      <th>3</th>\n",
       "      <td>536365</td>\n",
       "      <td>84029G</td>\n",
       "      <td>KNITTED UNION FLAG HOT WATER BOTTLE</td>\n",
       "      <td>6</td>\n",
       "      <td>01-12-2010 08:26</td>\n",
       "      <td>3.39</td>\n",
       "      <td>17850.0</td>\n",
       "      <td>United Kingdom</td>\n",
       "    </tr>\n",
       "    <tr>\n",
       "      <th>4</th>\n",
       "      <td>536365</td>\n",
       "      <td>84029E</td>\n",
       "      <td>RED WOOLLY HOTTIE WHITE HEART.</td>\n",
       "      <td>6</td>\n",
       "      <td>01-12-2010 08:26</td>\n",
       "      <td>3.39</td>\n",
       "      <td>17850.0</td>\n",
       "      <td>United Kingdom</td>\n",
       "    </tr>\n",
       "  </tbody>\n",
       "</table>\n",
       "</div>"
      ],
      "text/plain": [
       "  InvoiceNo StockCode                          Description  Quantity  \\\n",
       "0    536365    85123A   WHITE HANGING HEART T-LIGHT HOLDER         6   \n",
       "1    536365     71053                  WHITE METAL LANTERN         6   \n",
       "2    536365    84406B       CREAM CUPID HEARTS COAT HANGER         8   \n",
       "3    536365    84029G  KNITTED UNION FLAG HOT WATER BOTTLE         6   \n",
       "4    536365    84029E       RED WOOLLY HOTTIE WHITE HEART.         6   \n",
       "\n",
       "        InvoiceDate  UnitPrice  CustomerID         Country  \n",
       "0  01-12-2010 08:26       2.55     17850.0  United Kingdom  \n",
       "1  01-12-2010 08:26       3.39     17850.0  United Kingdom  \n",
       "2  01-12-2010 08:26       2.75     17850.0  United Kingdom  \n",
       "3  01-12-2010 08:26       3.39     17850.0  United Kingdom  \n",
       "4  01-12-2010 08:26       3.39     17850.0  United Kingdom  "
      ]
     },
     "execution_count": 4,
     "metadata": {},
     "output_type": "execute_result"
    }
   ],
   "source": [
    "df.head(5)"
   ]
  },
  {
   "cell_type": "markdown",
   "id": "a8563f50-d70f-45f5-b68e-7eb4523f9b3b",
   "metadata": {},
   "source": [
    "## 2.2 Last 5 rows"
   ]
  },
  {
   "cell_type": "code",
   "execution_count": 5,
   "id": "f2425d3e-e92f-433a-a72c-aed4d1cb07ba",
   "metadata": {},
   "outputs": [
    {
     "data": {
      "text/html": [
       "<div>\n",
       "<style scoped>\n",
       "    .dataframe tbody tr th:only-of-type {\n",
       "        vertical-align: middle;\n",
       "    }\n",
       "\n",
       "    .dataframe tbody tr th {\n",
       "        vertical-align: top;\n",
       "    }\n",
       "\n",
       "    .dataframe thead th {\n",
       "        text-align: right;\n",
       "    }\n",
       "</style>\n",
       "<table border=\"1\" class=\"dataframe\">\n",
       "  <thead>\n",
       "    <tr style=\"text-align: right;\">\n",
       "      <th></th>\n",
       "      <th>InvoiceNo</th>\n",
       "      <th>StockCode</th>\n",
       "      <th>Description</th>\n",
       "      <th>Quantity</th>\n",
       "      <th>InvoiceDate</th>\n",
       "      <th>UnitPrice</th>\n",
       "      <th>CustomerID</th>\n",
       "      <th>Country</th>\n",
       "    </tr>\n",
       "  </thead>\n",
       "  <tbody>\n",
       "    <tr>\n",
       "      <th>541904</th>\n",
       "      <td>581587</td>\n",
       "      <td>22613</td>\n",
       "      <td>PACK OF 20 SPACEBOY NAPKINS</td>\n",
       "      <td>12</td>\n",
       "      <td>09-12-2011 12:50</td>\n",
       "      <td>0.85</td>\n",
       "      <td>12680.0</td>\n",
       "      <td>France</td>\n",
       "    </tr>\n",
       "    <tr>\n",
       "      <th>541905</th>\n",
       "      <td>581587</td>\n",
       "      <td>22899</td>\n",
       "      <td>CHILDREN'S APRON DOLLY GIRL</td>\n",
       "      <td>6</td>\n",
       "      <td>09-12-2011 12:50</td>\n",
       "      <td>2.10</td>\n",
       "      <td>12680.0</td>\n",
       "      <td>France</td>\n",
       "    </tr>\n",
       "    <tr>\n",
       "      <th>541906</th>\n",
       "      <td>581587</td>\n",
       "      <td>23254</td>\n",
       "      <td>CHILDRENS CUTLERY DOLLY GIRL</td>\n",
       "      <td>4</td>\n",
       "      <td>09-12-2011 12:50</td>\n",
       "      <td>4.15</td>\n",
       "      <td>12680.0</td>\n",
       "      <td>France</td>\n",
       "    </tr>\n",
       "    <tr>\n",
       "      <th>541907</th>\n",
       "      <td>581587</td>\n",
       "      <td>23255</td>\n",
       "      <td>CHILDRENS CUTLERY CIRCUS PARADE</td>\n",
       "      <td>4</td>\n",
       "      <td>09-12-2011 12:50</td>\n",
       "      <td>4.15</td>\n",
       "      <td>12680.0</td>\n",
       "      <td>France</td>\n",
       "    </tr>\n",
       "    <tr>\n",
       "      <th>541908</th>\n",
       "      <td>581587</td>\n",
       "      <td>22138</td>\n",
       "      <td>BAKING SET 9 PIECE RETROSPOT</td>\n",
       "      <td>3</td>\n",
       "      <td>09-12-2011 12:50</td>\n",
       "      <td>4.95</td>\n",
       "      <td>12680.0</td>\n",
       "      <td>France</td>\n",
       "    </tr>\n",
       "  </tbody>\n",
       "</table>\n",
       "</div>"
      ],
      "text/plain": [
       "       InvoiceNo StockCode                      Description  Quantity  \\\n",
       "541904    581587     22613      PACK OF 20 SPACEBOY NAPKINS        12   \n",
       "541905    581587     22899     CHILDREN'S APRON DOLLY GIRL          6   \n",
       "541906    581587     23254    CHILDRENS CUTLERY DOLLY GIRL          4   \n",
       "541907    581587     23255  CHILDRENS CUTLERY CIRCUS PARADE         4   \n",
       "541908    581587     22138    BAKING SET 9 PIECE RETROSPOT          3   \n",
       "\n",
       "             InvoiceDate  UnitPrice  CustomerID Country  \n",
       "541904  09-12-2011 12:50       0.85     12680.0  France  \n",
       "541905  09-12-2011 12:50       2.10     12680.0  France  \n",
       "541906  09-12-2011 12:50       4.15     12680.0  France  \n",
       "541907  09-12-2011 12:50       4.15     12680.0  France  \n",
       "541908  09-12-2011 12:50       4.95     12680.0  France  "
      ]
     },
     "execution_count": 5,
     "metadata": {},
     "output_type": "execute_result"
    }
   ],
   "source": [
    "df.tail(5)"
   ]
  },
  {
   "cell_type": "markdown",
   "id": "ba4ea339-09b2-438f-993e-352db4753ad1",
   "metadata": {},
   "source": [
    "## 2.3 Columns And Rows Count"
   ]
  },
  {
   "cell_type": "code",
   "execution_count": 6,
   "id": "b88051b7-72b2-473b-9241-c8f67093eaf0",
   "metadata": {},
   "outputs": [
    {
     "name": "stdout",
     "output_type": "stream",
     "text": [
      "columns= 8\n",
      "Rows= 541909\n"
     ]
    }
   ],
   "source": [
    "rows, columns = df.shape\n",
    "print(f'columns=', columns)\n",
    "print(f'Rows=', rows)"
   ]
  },
  {
   "cell_type": "markdown",
   "id": "bcbf9180-7119-4f6f-83e3-1b52508ddabc",
   "metadata": {},
   "source": [
    "## 2.4 Columns name"
   ]
  },
  {
   "cell_type": "code",
   "execution_count": 7,
   "id": "c9313a43-a0cb-4ca9-b5db-337e138b44a8",
   "metadata": {},
   "outputs": [
    {
     "name": "stdout",
     "output_type": "stream",
     "text": [
      "+-------+-------------+\n",
      "| Index | Column Name |\n",
      "+-------+-------------+\n",
      "|   0   |  InvoiceNo  |\n",
      "|   1   |  StockCode  |\n",
      "|   2   | Description |\n",
      "|   3   |   Quantity  |\n",
      "|   4   | InvoiceDate |\n",
      "|   5   |  UnitPrice  |\n",
      "|   6   |  CustomerID |\n",
      "|   7   |   Country   |\n",
      "+-------+-------------+\n"
     ]
    }
   ],
   "source": [
    "from prettytable import PrettyTable\n",
    "table = PrettyTable()\n",
    "table.field_names = [\"Index\", \"Column Name\"]\n",
    "\n",
    "for index, col in enumerate(df.columns.to_list()):\n",
    "    table.add_row([index, col])\n",
    "print(table)"
   ]
  },
  {
   "cell_type": "markdown",
   "id": "b8e36374-5635-4a66-8d81-b26047aaf4b1",
   "metadata": {},
   "source": [
    "## 2.5 Defining numerical & categorical columns\n"
   ]
  },
  {
   "cell_type": "code",
   "execution_count": 8,
   "id": "5c043fe0-24ef-4557-806b-2ea68b12d8ed",
   "metadata": {},
   "outputs": [],
   "source": [
    "numeric_features = [feature for feature in df.columns if df[feature].dtype != '0']\n",
    "Categorical_features = [feature for feature in df.columns if df[feature].dtype == '0']"
   ]
  },
  {
   "cell_type": "code",
   "execution_count": 9,
   "id": "d61cc332-dfe5-45bd-a1f5-3d675b8be54e",
   "metadata": {},
   "outputs": [
    {
     "name": "stdout",
     "output_type": "stream",
     "text": [
      "We have 8 numerical feature : ['InvoiceNo', 'StockCode', 'Description', 'Quantity', 'InvoiceDate', 'UnitPrice', 'CustomerID', 'Country']\n",
      "\n",
      "We have 0 Categorical feature : []\n"
     ]
    }
   ],
   "source": [
    "print('We have {} numerical feature : {}'.format(len(numeric_features),numeric_features))\n",
    "print('\\nWe have {} Categorical feature : {}'.format(len(Categorical_features),Categorical_features))"
   ]
  },
  {
   "cell_type": "markdown",
   "id": "e851a55e-064f-43d6-b64c-abb61c22e8b9",
   "metadata": {},
   "source": [
    "## Data Description\n",
    "    INVOICE: Invoice number is transaction number. if it is start with \"C\" which means cancelled order.\n",
    "    STOCK CODE: Product code.\n",
    "    DESCRIPTION: Product name.\n",
    "    QUANTITY : It refers how many product have been sold.\n",
    "    INVOICEDATE: Date of invoice.\n",
    "    PRICE: Product price.\n",
    "    CUSTOMER ID: unique id for customer.\n",
    "    COUNTRY: The address of customer."
   ]
  },
  {
   "cell_type": "markdown",
   "id": "896230cf-4d5e-488f-8124-e7544f3f00db",
   "metadata": {},
   "source": [
    "# 3 Exploratory Data Analysis"
   ]
  },
  {
   "cell_type": "markdown",
   "id": "370e5757-212b-41b5-972d-dbc36429a7e2",
   "metadata": {},
   "source": [
    "## 3.1 INFO of DATASET"
   ]
  },
  {
   "cell_type": "code",
   "execution_count": 10,
   "id": "0295fe62-ecd0-460f-9e48-ebdc57e93735",
   "metadata": {},
   "outputs": [
    {
     "name": "stdout",
     "output_type": "stream",
     "text": [
      "<class 'pandas.core.frame.DataFrame'>\n",
      "RangeIndex: 541909 entries, 0 to 541908\n",
      "Data columns (total 8 columns):\n",
      " #   Column       Non-Null Count   Dtype  \n",
      "---  ------       --------------   -----  \n",
      " 0   InvoiceNo    541909 non-null  object \n",
      " 1   StockCode    541909 non-null  object \n",
      " 2   Description  540455 non-null  object \n",
      " 3   Quantity     541909 non-null  int64  \n",
      " 4   InvoiceDate  541909 non-null  object \n",
      " 5   UnitPrice    541909 non-null  float64\n",
      " 6   CustomerID   406829 non-null  float64\n",
      " 7   Country      541909 non-null  object \n",
      "dtypes: float64(2), int64(1), object(5)\n",
      "memory usage: 33.1+ MB\n"
     ]
    }
   ],
   "source": [
    "df.info()"
   ]
  },
  {
   "cell_type": "markdown",
   "id": "46d3c743-a5e7-4c21-8014-df122c9ccb88",
   "metadata": {},
   "source": [
    "## 3.2 Data Describe"
   ]
  },
  {
   "cell_type": "code",
   "execution_count": 11,
   "id": "3e4b6e0b-0fb5-4f7b-b5cb-9a45afdebd62",
   "metadata": {},
   "outputs": [
    {
     "data": {
      "text/html": [
       "<div>\n",
       "<style scoped>\n",
       "    .dataframe tbody tr th:only-of-type {\n",
       "        vertical-align: middle;\n",
       "    }\n",
       "\n",
       "    .dataframe tbody tr th {\n",
       "        vertical-align: top;\n",
       "    }\n",
       "\n",
       "    .dataframe thead th {\n",
       "        text-align: right;\n",
       "    }\n",
       "</style>\n",
       "<table border=\"1\" class=\"dataframe\">\n",
       "  <thead>\n",
       "    <tr style=\"text-align: right;\">\n",
       "      <th></th>\n",
       "      <th>count</th>\n",
       "      <th>mean</th>\n",
       "      <th>std</th>\n",
       "      <th>min</th>\n",
       "      <th>25%</th>\n",
       "      <th>50%</th>\n",
       "      <th>75%</th>\n",
       "      <th>max</th>\n",
       "    </tr>\n",
       "  </thead>\n",
       "  <tbody>\n",
       "    <tr>\n",
       "      <th>Quantity</th>\n",
       "      <td>541909.0</td>\n",
       "      <td>9.552250</td>\n",
       "      <td>218.081158</td>\n",
       "      <td>-80995.00</td>\n",
       "      <td>1.00</td>\n",
       "      <td>3.00</td>\n",
       "      <td>10.00</td>\n",
       "      <td>80995.0</td>\n",
       "    </tr>\n",
       "    <tr>\n",
       "      <th>UnitPrice</th>\n",
       "      <td>541909.0</td>\n",
       "      <td>4.611114</td>\n",
       "      <td>96.759853</td>\n",
       "      <td>-11062.06</td>\n",
       "      <td>1.25</td>\n",
       "      <td>2.08</td>\n",
       "      <td>4.13</td>\n",
       "      <td>38970.0</td>\n",
       "    </tr>\n",
       "    <tr>\n",
       "      <th>CustomerID</th>\n",
       "      <td>406829.0</td>\n",
       "      <td>15287.690570</td>\n",
       "      <td>1713.600303</td>\n",
       "      <td>12346.00</td>\n",
       "      <td>13953.00</td>\n",
       "      <td>15152.00</td>\n",
       "      <td>16791.00</td>\n",
       "      <td>18287.0</td>\n",
       "    </tr>\n",
       "  </tbody>\n",
       "</table>\n",
       "</div>"
      ],
      "text/plain": [
       "               count          mean          std       min       25%       50%  \\\n",
       "Quantity    541909.0      9.552250   218.081158 -80995.00      1.00      3.00   \n",
       "UnitPrice   541909.0      4.611114    96.759853 -11062.06      1.25      2.08   \n",
       "CustomerID  406829.0  15287.690570  1713.600303  12346.00  13953.00  15152.00   \n",
       "\n",
       "                 75%      max  \n",
       "Quantity       10.00  80995.0  \n",
       "UnitPrice       4.13  38970.0  \n",
       "CustomerID  16791.00  18287.0  "
      ]
     },
     "execution_count": 11,
     "metadata": {},
     "output_type": "execute_result"
    }
   ],
   "source": [
    "df.describe().T"
   ]
  },
  {
   "cell_type": "markdown",
   "id": "6e268224-8e64-4e90-a019-f66b37508331",
   "metadata": {},
   "source": [
    "## 3.3 Checking the missing DATA"
   ]
  },
  {
   "cell_type": "code",
   "execution_count": 12,
   "id": "9d71d154-93a8-458e-8380-cc471d5aee53",
   "metadata": {},
   "outputs": [
    {
     "data": {
      "text/html": [
       "<div>\n",
       "<style scoped>\n",
       "    .dataframe tbody tr th:only-of-type {\n",
       "        vertical-align: middle;\n",
       "    }\n",
       "\n",
       "    .dataframe tbody tr th {\n",
       "        vertical-align: top;\n",
       "    }\n",
       "\n",
       "    .dataframe thead th {\n",
       "        text-align: right;\n",
       "    }\n",
       "</style>\n",
       "<table border=\"1\" class=\"dataframe\">\n",
       "  <thead>\n",
       "    <tr style=\"text-align: right;\">\n",
       "      <th></th>\n",
       "      <th>Total</th>\n",
       "      <th>Percent</th>\n",
       "    </tr>\n",
       "  </thead>\n",
       "  <tbody>\n",
       "    <tr>\n",
       "      <th>CustomerID</th>\n",
       "      <td>135080</td>\n",
       "      <td>24.926694</td>\n",
       "    </tr>\n",
       "    <tr>\n",
       "      <th>Description</th>\n",
       "      <td>1454</td>\n",
       "      <td>0.268311</td>\n",
       "    </tr>\n",
       "    <tr>\n",
       "      <th>InvoiceNo</th>\n",
       "      <td>0</td>\n",
       "      <td>0.000000</td>\n",
       "    </tr>\n",
       "    <tr>\n",
       "      <th>StockCode</th>\n",
       "      <td>0</td>\n",
       "      <td>0.000000</td>\n",
       "    </tr>\n",
       "    <tr>\n",
       "      <th>Quantity</th>\n",
       "      <td>0</td>\n",
       "      <td>0.000000</td>\n",
       "    </tr>\n",
       "    <tr>\n",
       "      <th>InvoiceDate</th>\n",
       "      <td>0</td>\n",
       "      <td>0.000000</td>\n",
       "    </tr>\n",
       "    <tr>\n",
       "      <th>UnitPrice</th>\n",
       "      <td>0</td>\n",
       "      <td>0.000000</td>\n",
       "    </tr>\n",
       "    <tr>\n",
       "      <th>Country</th>\n",
       "      <td>0</td>\n",
       "      <td>0.000000</td>\n",
       "    </tr>\n",
       "  </tbody>\n",
       "</table>\n",
       "</div>"
      ],
      "text/plain": [
       "              Total    Percent\n",
       "CustomerID   135080  24.926694\n",
       "Description    1454   0.268311\n",
       "InvoiceNo         0   0.000000\n",
       "StockCode         0   0.000000\n",
       "Quantity          0   0.000000\n",
       "InvoiceDate       0   0.000000\n",
       "UnitPrice         0   0.000000\n",
       "Country           0   0.000000"
      ]
     },
     "execution_count": 12,
     "metadata": {},
     "output_type": "execute_result"
    }
   ],
   "source": [
    "total = df.isnull().sum().sort_values(ascending=False)\n",
    "percent=(df.isnull().sum()/df.isnull().count()*100).sort_values(ascending=False)\n",
    "pd.concat([total, percent], axis=1, keys=['Total', 'Percent'])"
   ]
  },
  {
   "cell_type": "markdown",
   "id": "c9b33ed7-6763-4a5a-bb63-de328abb5054",
   "metadata": {},
   "source": [
    "## 3.3 Statistic Summary"
   ]
  },
  {
   "cell_type": "code",
   "execution_count": 13,
   "id": "cc0d01a6-921b-4689-854a-7947ceedda65",
   "metadata": {},
   "outputs": [
    {
     "data": {
      "text/html": [
       "<div>\n",
       "<style scoped>\n",
       "    .dataframe tbody tr th:only-of-type {\n",
       "        vertical-align: middle;\n",
       "    }\n",
       "\n",
       "    .dataframe tbody tr th {\n",
       "        vertical-align: top;\n",
       "    }\n",
       "\n",
       "    .dataframe thead th {\n",
       "        text-align: right;\n",
       "    }\n",
       "</style>\n",
       "<table border=\"1\" class=\"dataframe\">\n",
       "  <thead>\n",
       "    <tr style=\"text-align: right;\">\n",
       "      <th></th>\n",
       "      <th>Quantity</th>\n",
       "      <th>UnitPrice</th>\n",
       "      <th>CustomerID</th>\n",
       "    </tr>\n",
       "  </thead>\n",
       "  <tbody>\n",
       "    <tr>\n",
       "      <th>count</th>\n",
       "      <td>541909.000000</td>\n",
       "      <td>541909.000000</td>\n",
       "      <td>406829.000000</td>\n",
       "    </tr>\n",
       "    <tr>\n",
       "      <th>mean</th>\n",
       "      <td>9.552250</td>\n",
       "      <td>4.611114</td>\n",
       "      <td>15287.690570</td>\n",
       "    </tr>\n",
       "    <tr>\n",
       "      <th>std</th>\n",
       "      <td>218.081158</td>\n",
       "      <td>96.759853</td>\n",
       "      <td>1713.600303</td>\n",
       "    </tr>\n",
       "    <tr>\n",
       "      <th>min</th>\n",
       "      <td>-80995.000000</td>\n",
       "      <td>-11062.060000</td>\n",
       "      <td>12346.000000</td>\n",
       "    </tr>\n",
       "    <tr>\n",
       "      <th>25%</th>\n",
       "      <td>1.000000</td>\n",
       "      <td>1.250000</td>\n",
       "      <td>13953.000000</td>\n",
       "    </tr>\n",
       "    <tr>\n",
       "      <th>50%</th>\n",
       "      <td>3.000000</td>\n",
       "      <td>2.080000</td>\n",
       "      <td>15152.000000</td>\n",
       "    </tr>\n",
       "    <tr>\n",
       "      <th>75%</th>\n",
       "      <td>10.000000</td>\n",
       "      <td>4.130000</td>\n",
       "      <td>16791.000000</td>\n",
       "    </tr>\n",
       "    <tr>\n",
       "      <th>max</th>\n",
       "      <td>80995.000000</td>\n",
       "      <td>38970.000000</td>\n",
       "      <td>18287.000000</td>\n",
       "    </tr>\n",
       "  </tbody>\n",
       "</table>\n",
       "</div>"
      ],
      "text/plain": [
       "            Quantity      UnitPrice     CustomerID\n",
       "count  541909.000000  541909.000000  406829.000000\n",
       "mean        9.552250       4.611114   15287.690570\n",
       "std       218.081158      96.759853    1713.600303\n",
       "min    -80995.000000  -11062.060000   12346.000000\n",
       "25%         1.000000       1.250000   13953.000000\n",
       "50%         3.000000       2.080000   15152.000000\n",
       "75%        10.000000       4.130000   16791.000000\n",
       "max     80995.000000   38970.000000   18287.000000"
      ]
     },
     "execution_count": 13,
     "metadata": {},
     "output_type": "execute_result"
    }
   ],
   "source": [
    "df.describe()"
   ]
  },
  {
   "cell_type": "markdown",
   "id": "d2867c14-0d83-4de2-8cae-bf062e5dc9d0",
   "metadata": {},
   "source": [
    "## 3.3 Statistic Summary for Categorical"
   ]
  },
  {
   "cell_type": "code",
   "execution_count": 14,
   "id": "20bf9f27-9f64-416f-95a9-23b78628f8dc",
   "metadata": {},
   "outputs": [
    {
     "data": {
      "text/html": [
       "<div>\n",
       "<style scoped>\n",
       "    .dataframe tbody tr th:only-of-type {\n",
       "        vertical-align: middle;\n",
       "    }\n",
       "\n",
       "    .dataframe tbody tr th {\n",
       "        vertical-align: top;\n",
       "    }\n",
       "\n",
       "    .dataframe thead th {\n",
       "        text-align: right;\n",
       "    }\n",
       "</style>\n",
       "<table border=\"1\" class=\"dataframe\">\n",
       "  <thead>\n",
       "    <tr style=\"text-align: right;\">\n",
       "      <th></th>\n",
       "      <th>InvoiceNo</th>\n",
       "      <th>StockCode</th>\n",
       "      <th>Description</th>\n",
       "      <th>InvoiceDate</th>\n",
       "      <th>Country</th>\n",
       "    </tr>\n",
       "  </thead>\n",
       "  <tbody>\n",
       "    <tr>\n",
       "      <th>count</th>\n",
       "      <td>541909</td>\n",
       "      <td>541909</td>\n",
       "      <td>540455</td>\n",
       "      <td>541909</td>\n",
       "      <td>541909</td>\n",
       "    </tr>\n",
       "    <tr>\n",
       "      <th>unique</th>\n",
       "      <td>25900</td>\n",
       "      <td>4070</td>\n",
       "      <td>4223</td>\n",
       "      <td>23260</td>\n",
       "      <td>38</td>\n",
       "    </tr>\n",
       "    <tr>\n",
       "      <th>top</th>\n",
       "      <td>573585</td>\n",
       "      <td>85123A</td>\n",
       "      <td>WHITE HANGING HEART T-LIGHT HOLDER</td>\n",
       "      <td>31-10-2011 14:41</td>\n",
       "      <td>United Kingdom</td>\n",
       "    </tr>\n",
       "    <tr>\n",
       "      <th>freq</th>\n",
       "      <td>1114</td>\n",
       "      <td>2313</td>\n",
       "      <td>2369</td>\n",
       "      <td>1114</td>\n",
       "      <td>495478</td>\n",
       "    </tr>\n",
       "  </tbody>\n",
       "</table>\n",
       "</div>"
      ],
      "text/plain": [
       "       InvoiceNo StockCode                         Description  \\\n",
       "count     541909    541909                              540455   \n",
       "unique     25900      4070                                4223   \n",
       "top       573585    85123A  WHITE HANGING HEART T-LIGHT HOLDER   \n",
       "freq        1114      2313                                2369   \n",
       "\n",
       "             InvoiceDate         Country  \n",
       "count             541909          541909  \n",
       "unique             23260              38  \n",
       "top     31-10-2011 14:41  United Kingdom  \n",
       "freq                1114          495478  "
      ]
     },
     "execution_count": 14,
     "metadata": {},
     "output_type": "execute_result"
    }
   ],
   "source": [
    "df.describe(include = \"object\")"
   ]
  },
  {
   "cell_type": "markdown",
   "id": "6bc7fc30-7e9a-4de2-b19c-1dbfc79f2c6b",
   "metadata": {},
   "source": [
    "## 3.4 Checking Unique records "
   ]
  },
  {
   "cell_type": "code",
   "execution_count": 15,
   "id": "b2be0717-3afb-43d0-8d19-96197af094a6",
   "metadata": {},
   "outputs": [
    {
     "data": {
      "text/plain": [
       "array(['536365', '536366', '536367', ..., '581585', '581586', '581587'],\n",
       "      dtype=object)"
      ]
     },
     "execution_count": 15,
     "metadata": {},
     "output_type": "execute_result"
    }
   ],
   "source": [
    "# For Invoice\n",
    "df['InvoiceNo'].nunique()\n",
    "df['InvoiceNo'].unique()"
   ]
  },
  {
   "cell_type": "code",
   "execution_count": 16,
   "id": "b8ee5862-3cc0-4942-8fb2-fab467ebdedc",
   "metadata": {},
   "outputs": [
    {
     "data": {
      "text/plain": [
       "array(['85123A', '71053', '84406B', ..., '90214U', '47591b', '23843'],\n",
       "      dtype=object)"
      ]
     },
     "execution_count": 16,
     "metadata": {},
     "output_type": "execute_result"
    }
   ],
   "source": [
    "# For Stock Code\n",
    "df['StockCode'].nunique()\n",
    "df['StockCode'].unique()"
   ]
  },
  {
   "cell_type": "code",
   "execution_count": 17,
   "id": "7999ad3c-aab9-4967-a2cd-566f6b4be158",
   "metadata": {},
   "outputs": [
    {
     "data": {
      "text/plain": [
       "array(['WHITE HANGING HEART T-LIGHT HOLDER', 'WHITE METAL LANTERN',\n",
       "       'CREAM CUPID HEARTS COAT HANGER', ..., 'lost',\n",
       "       'CREAM HANGING HEART T-LIGHT HOLDER',\n",
       "       'PAPER CRAFT , LITTLE BIRDIE'], dtype=object)"
      ]
     },
     "execution_count": 17,
     "metadata": {},
     "output_type": "execute_result"
    }
   ],
   "source": [
    "# For Description\n",
    "df['Description'].nunique()\n",
    "df['Description'].unique()"
   ]
  },
  {
   "cell_type": "code",
   "execution_count": 18,
   "id": "4326c32d-d66a-4f8e-8cfa-c1ee6a762024",
   "metadata": {},
   "outputs": [
    {
     "data": {
      "text/plain": [
       "array(['United Kingdom', 'France', 'Australia', 'Netherlands', 'Germany',\n",
       "       'Norway', 'EIRE', 'Switzerland', 'Spain', 'Poland', 'Portugal',\n",
       "       'Italy', 'Belgium', 'Lithuania', 'Japan', 'Iceland',\n",
       "       'Channel Islands', 'Denmark', 'Cyprus', 'Sweden', 'Austria',\n",
       "       'Israel', 'Finland', 'Bahrain', 'Greece', 'Hong Kong', 'Singapore',\n",
       "       'Lebanon', 'United Arab Emirates', 'Saudi Arabia',\n",
       "       'Czech Republic', 'Canada', 'Unspecified', 'Brazil', 'USA',\n",
       "       'European Community', 'Malta', 'RSA'], dtype=object)"
      ]
     },
     "execution_count": 18,
     "metadata": {},
     "output_type": "execute_result"
    }
   ],
   "source": [
    "# For Country\n",
    "df['Country'].nunique()\n",
    "df['Country'].unique()"
   ]
  },
  {
   "cell_type": "markdown",
   "id": "af7ace30-fefb-4a92-9313-e16ebce83e49",
   "metadata": {},
   "source": [
    "## 3.5 Data Cleaning And Preprocessing\n",
    "    Missing Value"
   ]
  },
  {
   "cell_type": "code",
   "execution_count": 19,
   "id": "a0c8fd10-231f-4113-a99b-4370aeaebd58",
   "metadata": {},
   "outputs": [
    {
     "data": {
      "text/html": [
       "<div>\n",
       "<style scoped>\n",
       "    .dataframe tbody tr th:only-of-type {\n",
       "        vertical-align: middle;\n",
       "    }\n",
       "\n",
       "    .dataframe tbody tr th {\n",
       "        vertical-align: top;\n",
       "    }\n",
       "\n",
       "    .dataframe thead th {\n",
       "        text-align: right;\n",
       "    }\n",
       "</style>\n",
       "<table border=\"1\" class=\"dataframe\">\n",
       "  <thead>\n",
       "    <tr style=\"text-align: right;\">\n",
       "      <th></th>\n",
       "      <th>Total</th>\n",
       "      <th>Percent</th>\n",
       "    </tr>\n",
       "  </thead>\n",
       "  <tbody>\n",
       "    <tr>\n",
       "      <th>CustomerID</th>\n",
       "      <td>135080</td>\n",
       "      <td>24.926694</td>\n",
       "    </tr>\n",
       "    <tr>\n",
       "      <th>Description</th>\n",
       "      <td>1454</td>\n",
       "      <td>0.268311</td>\n",
       "    </tr>\n",
       "    <tr>\n",
       "      <th>InvoiceNo</th>\n",
       "      <td>0</td>\n",
       "      <td>0.000000</td>\n",
       "    </tr>\n",
       "    <tr>\n",
       "      <th>StockCode</th>\n",
       "      <td>0</td>\n",
       "      <td>0.000000</td>\n",
       "    </tr>\n",
       "    <tr>\n",
       "      <th>Quantity</th>\n",
       "      <td>0</td>\n",
       "      <td>0.000000</td>\n",
       "    </tr>\n",
       "    <tr>\n",
       "      <th>InvoiceDate</th>\n",
       "      <td>0</td>\n",
       "      <td>0.000000</td>\n",
       "    </tr>\n",
       "    <tr>\n",
       "      <th>UnitPrice</th>\n",
       "      <td>0</td>\n",
       "      <td>0.000000</td>\n",
       "    </tr>\n",
       "    <tr>\n",
       "      <th>Country</th>\n",
       "      <td>0</td>\n",
       "      <td>0.000000</td>\n",
       "    </tr>\n",
       "  </tbody>\n",
       "</table>\n",
       "</div>"
      ],
      "text/plain": [
       "              Total    Percent\n",
       "CustomerID   135080  24.926694\n",
       "Description    1454   0.268311\n",
       "InvoiceNo         0   0.000000\n",
       "StockCode         0   0.000000\n",
       "Quantity          0   0.000000\n",
       "InvoiceDate       0   0.000000\n",
       "UnitPrice         0   0.000000\n",
       "Country           0   0.000000"
      ]
     },
     "execution_count": 19,
     "metadata": {},
     "output_type": "execute_result"
    }
   ],
   "source": [
    "total = df.isnull().sum().sort_values(ascending=False)\n",
    "percent=(df.isnull().sum()/df.isnull().count()*100).sort_values(ascending=False)\n",
    "pd.concat([total, percent], axis=1, keys=['Total', 'Percent'])"
   ]
  },
  {
   "cell_type": "markdown",
   "id": "a5ab9b51-64f1-4506-934d-0ee1e6605669",
   "metadata": {},
   "source": [
    " 24.92% of Customer ID is missing. Drop the columns as primary information Customer ID is missing"
   ]
  },
  {
   "cell_type": "markdown",
   "id": "0c2b72ab-4b4d-4ef5-b3e4-33cf32387b48",
   "metadata": {},
   "source": [
    "### Dropping empty Customer ID "
   ]
  },
  {
   "cell_type": "code",
   "execution_count": 20,
   "id": "14342572-2fc0-4e38-92dd-828c88819a68",
   "metadata": {},
   "outputs": [
    {
     "data": {
      "text/plain": [
       "(406829, 8)"
      ]
     },
     "execution_count": 20,
     "metadata": {},
     "output_type": "execute_result"
    }
   ],
   "source": [
    "df2 = df.dropna()\n",
    "df2.shape"
   ]
  },
  {
   "cell_type": "markdown",
   "id": "d721d90e-5ac3-4c32-937d-6351f13cc222",
   "metadata": {},
   "source": [
    "### Data type Conversion\n",
    "changing datatype of customer id in string."
   ]
  },
  {
   "cell_type": "code",
   "execution_count": 21,
   "id": "db258fcd-2ec0-4f6b-a3f8-7ddb88f5632c",
   "metadata": {},
   "outputs": [],
   "source": [
    "df2[\"CustomerID\"]=df2[\"CustomerID\"].astype(str)"
   ]
  },
  {
   "cell_type": "code",
   "execution_count": 22,
   "id": "eafd3a7e-9fc3-4f4d-9d10-e93574e141c2",
   "metadata": {},
   "outputs": [
    {
     "data": {
      "text/plain": [
       "InvoiceNo       object\n",
       "StockCode       object\n",
       "Description     object\n",
       "Quantity         int64\n",
       "InvoiceDate     object\n",
       "UnitPrice      float64\n",
       "CustomerID      object\n",
       "Country         object\n",
       "dtype: object"
      ]
     },
     "execution_count": 22,
     "metadata": {},
     "output_type": "execute_result"
    }
   ],
   "source": [
    "df2.dtypes"
   ]
  },
  {
   "cell_type": "markdown",
   "id": "500b692a-f4f0-4250-9ef0-2fa80a276dd0",
   "metadata": {},
   "source": [
    "## 3.6 Removing invalid entries \n",
    "    Price and quantity must be positive."
   ]
  },
  {
   "cell_type": "code",
   "execution_count": 23,
   "id": "dc9f0924-25a3-44ef-8a57-95c640b67c1f",
   "metadata": {},
   "outputs": [
    {
     "data": {
      "text/plain": [
       "UnitPrice\n",
       "False    406789\n",
       "True         40\n",
       "Name: count, dtype: int64"
      ]
     },
     "execution_count": 23,
     "metadata": {},
     "output_type": "execute_result"
    }
   ],
   "source": [
    "(df2['UnitPrice']<=0).value_counts()"
   ]
  },
  {
   "cell_type": "markdown",
   "id": "95bc5b9d-109d-4652-9c1e-d0d317b9cf68",
   "metadata": {},
   "source": [
    "#### There is an  row entries are less than zero"
   ]
  },
  {
   "cell_type": "code",
   "execution_count": 24,
   "id": "ca986e45-331a-4289-8b5d-f63c2cb0d7bc",
   "metadata": {},
   "outputs": [],
   "source": [
    "# keeping only positive Rows\n",
    "df2 = df2[df2['UnitPrice']>0]"
   ]
  },
  {
   "cell_type": "code",
   "execution_count": 25,
   "id": "b3fe495a-9dcd-441b-9c14-c38839b7c351",
   "metadata": {},
   "outputs": [
    {
     "data": {
      "text/plain": [
       "Quantity\n",
       "False    397884\n",
       "True       8905\n",
       "Name: count, dtype: int64"
      ]
     },
     "execution_count": 25,
     "metadata": {},
     "output_type": "execute_result"
    }
   ],
   "source": [
    "(df2['Quantity']<=0).value_counts()"
   ]
  },
  {
   "cell_type": "markdown",
   "id": "e239ab36-9744-4f1d-9a0f-5f3165c000bd",
   "metadata": {},
   "source": [
    "Their is an exist negative value in Quantity column. We need to drop this rows."
   ]
  },
  {
   "cell_type": "code",
   "execution_count": 26,
   "id": "7c176afc-9d2c-43c8-8a84-5e8ce4b35531",
   "metadata": {},
   "outputs": [],
   "source": [
    "df2 = df2[df2['Quantity']>0]"
   ]
  },
  {
   "cell_type": "code",
   "execution_count": 27,
   "id": "36d2d4bc-aa46-47c0-8b30-7f643ea3b15c",
   "metadata": {},
   "outputs": [
    {
     "data": {
      "text/plain": [
       "(397884, 8)"
      ]
     },
     "execution_count": 27,
     "metadata": {},
     "output_type": "execute_result"
    }
   ],
   "source": [
    "df2.shape"
   ]
  },
  {
   "cell_type": "code",
   "execution_count": 28,
   "id": "86ca4e32-b672-42fb-855d-4de16b98ce4b",
   "metadata": {},
   "outputs": [
    {
     "data": {
      "text/html": [
       "<div>\n",
       "<style scoped>\n",
       "    .dataframe tbody tr th:only-of-type {\n",
       "        vertical-align: middle;\n",
       "    }\n",
       "\n",
       "    .dataframe tbody tr th {\n",
       "        vertical-align: top;\n",
       "    }\n",
       "\n",
       "    .dataframe thead th {\n",
       "        text-align: right;\n",
       "    }\n",
       "</style>\n",
       "<table border=\"1\" class=\"dataframe\">\n",
       "  <thead>\n",
       "    <tr style=\"text-align: right;\">\n",
       "      <th></th>\n",
       "      <th>InvoiceNo</th>\n",
       "      <th>StockCode</th>\n",
       "      <th>Description</th>\n",
       "      <th>Quantity</th>\n",
       "      <th>InvoiceDate</th>\n",
       "      <th>UnitPrice</th>\n",
       "      <th>CustomerID</th>\n",
       "      <th>Country</th>\n",
       "    </tr>\n",
       "  </thead>\n",
       "  <tbody>\n",
       "    <tr>\n",
       "      <th>0</th>\n",
       "      <td>536365</td>\n",
       "      <td>85123A</td>\n",
       "      <td>WHITE HANGING HEART T-LIGHT HOLDER</td>\n",
       "      <td>6</td>\n",
       "      <td>01-12-2010 08:26</td>\n",
       "      <td>2.55</td>\n",
       "      <td>17850.0</td>\n",
       "      <td>United Kingdom</td>\n",
       "    </tr>\n",
       "    <tr>\n",
       "      <th>1</th>\n",
       "      <td>536365</td>\n",
       "      <td>71053</td>\n",
       "      <td>WHITE METAL LANTERN</td>\n",
       "      <td>6</td>\n",
       "      <td>01-12-2010 08:26</td>\n",
       "      <td>3.39</td>\n",
       "      <td>17850.0</td>\n",
       "      <td>United Kingdom</td>\n",
       "    </tr>\n",
       "    <tr>\n",
       "      <th>2</th>\n",
       "      <td>536365</td>\n",
       "      <td>84406B</td>\n",
       "      <td>CREAM CUPID HEARTS COAT HANGER</td>\n",
       "      <td>8</td>\n",
       "      <td>01-12-2010 08:26</td>\n",
       "      <td>2.75</td>\n",
       "      <td>17850.0</td>\n",
       "      <td>United Kingdom</td>\n",
       "    </tr>\n",
       "    <tr>\n",
       "      <th>3</th>\n",
       "      <td>536365</td>\n",
       "      <td>84029G</td>\n",
       "      <td>KNITTED UNION FLAG HOT WATER BOTTLE</td>\n",
       "      <td>6</td>\n",
       "      <td>01-12-2010 08:26</td>\n",
       "      <td>3.39</td>\n",
       "      <td>17850.0</td>\n",
       "      <td>United Kingdom</td>\n",
       "    </tr>\n",
       "    <tr>\n",
       "      <th>4</th>\n",
       "      <td>536365</td>\n",
       "      <td>84029E</td>\n",
       "      <td>RED WOOLLY HOTTIE WHITE HEART.</td>\n",
       "      <td>6</td>\n",
       "      <td>01-12-2010 08:26</td>\n",
       "      <td>3.39</td>\n",
       "      <td>17850.0</td>\n",
       "      <td>United Kingdom</td>\n",
       "    </tr>\n",
       "  </tbody>\n",
       "</table>\n",
       "</div>"
      ],
      "text/plain": [
       "  InvoiceNo StockCode                          Description  Quantity  \\\n",
       "0    536365    85123A   WHITE HANGING HEART T-LIGHT HOLDER         6   \n",
       "1    536365     71053                  WHITE METAL LANTERN         6   \n",
       "2    536365    84406B       CREAM CUPID HEARTS COAT HANGER         8   \n",
       "3    536365    84029G  KNITTED UNION FLAG HOT WATER BOTTLE         6   \n",
       "4    536365    84029E       RED WOOLLY HOTTIE WHITE HEART.         6   \n",
       "\n",
       "        InvoiceDate  UnitPrice CustomerID         Country  \n",
       "0  01-12-2010 08:26       2.55    17850.0  United Kingdom  \n",
       "1  01-12-2010 08:26       3.39    17850.0  United Kingdom  \n",
       "2  01-12-2010 08:26       2.75    17850.0  United Kingdom  \n",
       "3  01-12-2010 08:26       3.39    17850.0  United Kingdom  \n",
       "4  01-12-2010 08:26       3.39    17850.0  United Kingdom  "
      ]
     },
     "execution_count": 28,
     "metadata": {},
     "output_type": "execute_result"
    }
   ],
   "source": [
    "df2.head()"
   ]
  },
  {
   "cell_type": "markdown",
   "id": "b38aede0-6989-4cad-9334-4086a55067e1",
   "metadata": {},
   "source": [
    "# 4 RFM Metrics & score calculation"
   ]
  },
  {
   "cell_type": "markdown",
   "id": "b9d9e502-badb-4d7c-ad99-b1108e3d1d08",
   "metadata": {},
   "source": [
    "## RFM Attribute Creation (Feature Engineering)\n",
    "    * R (Recency): Total number of days since last purchasing.\n",
    "    * F (Frequency): Toatal Number Of Transaction per customer.\n",
    "    * M (monetary): Total Spending by Customer."
   ]
  },
  {
   "cell_type": "markdown",
   "id": "6fc4ded9-550b-4224-9dfb-73b751460f25",
   "metadata": {},
   "source": [
    "## 4.1 Creating New Feature\n",
    "    Monetary"
   ]
  },
  {
   "cell_type": "code",
   "execution_count": 29,
   "id": "d166b017-a0a1-4225-b4d3-e7eb9f6fc693",
   "metadata": {},
   "outputs": [
    {
     "data": {
      "text/html": [
       "<div>\n",
       "<style scoped>\n",
       "    .dataframe tbody tr th:only-of-type {\n",
       "        vertical-align: middle;\n",
       "    }\n",
       "\n",
       "    .dataframe tbody tr th {\n",
       "        vertical-align: top;\n",
       "    }\n",
       "\n",
       "    .dataframe thead th {\n",
       "        text-align: right;\n",
       "    }\n",
       "</style>\n",
       "<table border=\"1\" class=\"dataframe\">\n",
       "  <thead>\n",
       "    <tr style=\"text-align: right;\">\n",
       "      <th></th>\n",
       "      <th>InvoiceNo</th>\n",
       "      <th>StockCode</th>\n",
       "      <th>Description</th>\n",
       "      <th>Quantity</th>\n",
       "      <th>InvoiceDate</th>\n",
       "      <th>UnitPrice</th>\n",
       "      <th>CustomerID</th>\n",
       "      <th>Country</th>\n",
       "      <th>Amount</th>\n",
       "    </tr>\n",
       "  </thead>\n",
       "  <tbody>\n",
       "    <tr>\n",
       "      <th>0</th>\n",
       "      <td>536365</td>\n",
       "      <td>85123A</td>\n",
       "      <td>WHITE HANGING HEART T-LIGHT HOLDER</td>\n",
       "      <td>6</td>\n",
       "      <td>01-12-2010 08:26</td>\n",
       "      <td>2.55</td>\n",
       "      <td>17850.0</td>\n",
       "      <td>United Kingdom</td>\n",
       "      <td>15.30</td>\n",
       "    </tr>\n",
       "    <tr>\n",
       "      <th>1</th>\n",
       "      <td>536365</td>\n",
       "      <td>71053</td>\n",
       "      <td>WHITE METAL LANTERN</td>\n",
       "      <td>6</td>\n",
       "      <td>01-12-2010 08:26</td>\n",
       "      <td>3.39</td>\n",
       "      <td>17850.0</td>\n",
       "      <td>United Kingdom</td>\n",
       "      <td>20.34</td>\n",
       "    </tr>\n",
       "    <tr>\n",
       "      <th>2</th>\n",
       "      <td>536365</td>\n",
       "      <td>84406B</td>\n",
       "      <td>CREAM CUPID HEARTS COAT HANGER</td>\n",
       "      <td>8</td>\n",
       "      <td>01-12-2010 08:26</td>\n",
       "      <td>2.75</td>\n",
       "      <td>17850.0</td>\n",
       "      <td>United Kingdom</td>\n",
       "      <td>22.00</td>\n",
       "    </tr>\n",
       "    <tr>\n",
       "      <th>3</th>\n",
       "      <td>536365</td>\n",
       "      <td>84029G</td>\n",
       "      <td>KNITTED UNION FLAG HOT WATER BOTTLE</td>\n",
       "      <td>6</td>\n",
       "      <td>01-12-2010 08:26</td>\n",
       "      <td>3.39</td>\n",
       "      <td>17850.0</td>\n",
       "      <td>United Kingdom</td>\n",
       "      <td>20.34</td>\n",
       "    </tr>\n",
       "    <tr>\n",
       "      <th>4</th>\n",
       "      <td>536365</td>\n",
       "      <td>84029E</td>\n",
       "      <td>RED WOOLLY HOTTIE WHITE HEART.</td>\n",
       "      <td>6</td>\n",
       "      <td>01-12-2010 08:26</td>\n",
       "      <td>3.39</td>\n",
       "      <td>17850.0</td>\n",
       "      <td>United Kingdom</td>\n",
       "      <td>20.34</td>\n",
       "    </tr>\n",
       "  </tbody>\n",
       "</table>\n",
       "</div>"
      ],
      "text/plain": [
       "  InvoiceNo StockCode                          Description  Quantity  \\\n",
       "0    536365    85123A   WHITE HANGING HEART T-LIGHT HOLDER         6   \n",
       "1    536365     71053                  WHITE METAL LANTERN         6   \n",
       "2    536365    84406B       CREAM CUPID HEARTS COAT HANGER         8   \n",
       "3    536365    84029G  KNITTED UNION FLAG HOT WATER BOTTLE         6   \n",
       "4    536365    84029E       RED WOOLLY HOTTIE WHITE HEART.         6   \n",
       "\n",
       "        InvoiceDate  UnitPrice CustomerID         Country  Amount  \n",
       "0  01-12-2010 08:26       2.55    17850.0  United Kingdom   15.30  \n",
       "1  01-12-2010 08:26       3.39    17850.0  United Kingdom   20.34  \n",
       "2  01-12-2010 08:26       2.75    17850.0  United Kingdom   22.00  \n",
       "3  01-12-2010 08:26       3.39    17850.0  United Kingdom   20.34  \n",
       "4  01-12-2010 08:26       3.39    17850.0  United Kingdom   20.34  "
      ]
     },
     "execution_count": 29,
     "metadata": {},
     "output_type": "execute_result"
    }
   ],
   "source": [
    "df2[\"Amount\"]= df2[\"UnitPrice\"]*df2[\"Quantity\"]\n",
    "df2.head()"
   ]
  },
  {
   "cell_type": "code",
   "execution_count": 30,
   "id": "fc717a53-f340-4ba2-a003-e98342736a69",
   "metadata": {},
   "outputs": [
    {
     "data": {
      "text/plain": [
       "CustomerID\n",
       "12346.0    77183.60\n",
       "12347.0     4310.00\n",
       "12348.0     1797.24\n",
       "12349.0     1757.55\n",
       "12350.0      334.40\n",
       "Name: Amount, dtype: float64"
      ]
     },
     "execution_count": 30,
     "metadata": {},
     "output_type": "execute_result"
    }
   ],
   "source": [
    "Monetary = df2.groupby(\"CustomerID\")[\"Amount\"].sum()\n",
    "Monetary.reset_index()\n",
    "Monetary.columns = [\"CustomerID\", \"Monetary\"]\n",
    "Monetary.head()"
   ]
  },
  {
   "cell_type": "markdown",
   "id": "b8611210-fff9-4982-b340-c644cb8f5740",
   "metadata": {},
   "source": [
    "## 4.2 Creating New Feature\n",
    "    Frequency"
   ]
  },
  {
   "cell_type": "code",
   "execution_count": 31,
   "id": "761ee5fb-cd2a-4155-a56b-e151c3a1225a",
   "metadata": {},
   "outputs": [
    {
     "data": {
      "text/html": [
       "<div>\n",
       "<style scoped>\n",
       "    .dataframe tbody tr th:only-of-type {\n",
       "        vertical-align: middle;\n",
       "    }\n",
       "\n",
       "    .dataframe tbody tr th {\n",
       "        vertical-align: top;\n",
       "    }\n",
       "\n",
       "    .dataframe thead th {\n",
       "        text-align: right;\n",
       "    }\n",
       "</style>\n",
       "<table border=\"1\" class=\"dataframe\">\n",
       "  <thead>\n",
       "    <tr style=\"text-align: right;\">\n",
       "      <th></th>\n",
       "      <th>CustomerID</th>\n",
       "      <th>Frequency</th>\n",
       "    </tr>\n",
       "  </thead>\n",
       "  <tbody>\n",
       "    <tr>\n",
       "      <th>0</th>\n",
       "      <td>12346.0</td>\n",
       "      <td>1</td>\n",
       "    </tr>\n",
       "    <tr>\n",
       "      <th>1</th>\n",
       "      <td>12347.0</td>\n",
       "      <td>182</td>\n",
       "    </tr>\n",
       "    <tr>\n",
       "      <th>2</th>\n",
       "      <td>12348.0</td>\n",
       "      <td>31</td>\n",
       "    </tr>\n",
       "    <tr>\n",
       "      <th>3</th>\n",
       "      <td>12349.0</td>\n",
       "      <td>73</td>\n",
       "    </tr>\n",
       "    <tr>\n",
       "      <th>4</th>\n",
       "      <td>12350.0</td>\n",
       "      <td>17</td>\n",
       "    </tr>\n",
       "  </tbody>\n",
       "</table>\n",
       "</div>"
      ],
      "text/plain": [
       "  CustomerID  Frequency\n",
       "0    12346.0          1\n",
       "1    12347.0        182\n",
       "2    12348.0         31\n",
       "3    12349.0         73\n",
       "4    12350.0         17"
      ]
     },
     "execution_count": 31,
     "metadata": {},
     "output_type": "execute_result"
    }
   ],
   "source": [
    "Frequency = df2.groupby(\"CustomerID\")[\"InvoiceNo\"].count()\n",
    "Frequency = Frequency.reset_index()\n",
    "Frequency.columns = [\"CustomerID\", \"Frequency\"]\n",
    "Frequency.head()"
   ]
  },
  {
   "cell_type": "markdown",
   "id": "862614fe-aaf7-457c-add4-730bc0984a83",
   "metadata": {},
   "source": [
    "## 4.3 Creating New Feature\n",
    "    Recency"
   ]
  },
  {
   "cell_type": "code",
   "execution_count": 32,
   "id": "275aae04-cb01-4b12-b95e-c77c378935b7",
   "metadata": {},
   "outputs": [
    {
     "data": {
      "text/plain": [
       "InvoiceNo       object\n",
       "StockCode       object\n",
       "Description     object\n",
       "Quantity         int64\n",
       "InvoiceDate     object\n",
       "UnitPrice      float64\n",
       "CustomerID      object\n",
       "Country         object\n",
       "Amount         float64\n",
       "dtype: object"
      ]
     },
     "execution_count": 32,
     "metadata": {},
     "output_type": "execute_result"
    }
   ],
   "source": [
    "df2.dtypes"
   ]
  },
  {
   "cell_type": "markdown",
   "id": "46aa9087-fb47-4adf-8f38-0576173200cb",
   "metadata": {},
   "source": [
    "* InvoiceDate is not in datetime dataset so we have to convert in the datetime datatype. "
   ]
  },
  {
   "cell_type": "code",
   "execution_count": 33,
   "id": "4909f627-502a-49d7-805c-b21a760c866b",
   "metadata": {},
   "outputs": [],
   "source": [
    "# Create a new feature Date\n",
    "df2[\"InvoiceDate\"] = pd.to_datetime(df2[\"InvoiceDate\"], errors='coerce', dayfirst=True)\n",
    "df2['Date'] =df2['InvoiceDate'].dt.date"
   ]
  },
  {
   "cell_type": "code",
   "execution_count": 34,
   "id": "0dc3ff5f-12f7-4343-ae44-ca220a6f509a",
   "metadata": {},
   "outputs": [
    {
     "data": {
      "text/html": [
       "<div>\n",
       "<style scoped>\n",
       "    .dataframe tbody tr th:only-of-type {\n",
       "        vertical-align: middle;\n",
       "    }\n",
       "\n",
       "    .dataframe tbody tr th {\n",
       "        vertical-align: top;\n",
       "    }\n",
       "\n",
       "    .dataframe thead th {\n",
       "        text-align: right;\n",
       "    }\n",
       "</style>\n",
       "<table border=\"1\" class=\"dataframe\">\n",
       "  <thead>\n",
       "    <tr style=\"text-align: right;\">\n",
       "      <th></th>\n",
       "      <th>CustomerID</th>\n",
       "      <th>LastPurchaseDate</th>\n",
       "    </tr>\n",
       "  </thead>\n",
       "  <tbody>\n",
       "    <tr>\n",
       "      <th>0</th>\n",
       "      <td>12346.0</td>\n",
       "      <td>2011-01-18</td>\n",
       "    </tr>\n",
       "    <tr>\n",
       "      <th>1</th>\n",
       "      <td>12347.0</td>\n",
       "      <td>2011-12-07</td>\n",
       "    </tr>\n",
       "    <tr>\n",
       "      <th>2</th>\n",
       "      <td>12348.0</td>\n",
       "      <td>2011-09-25</td>\n",
       "    </tr>\n",
       "    <tr>\n",
       "      <th>3</th>\n",
       "      <td>12349.0</td>\n",
       "      <td>2011-11-21</td>\n",
       "    </tr>\n",
       "    <tr>\n",
       "      <th>4</th>\n",
       "      <td>12350.0</td>\n",
       "      <td>2011-02-02</td>\n",
       "    </tr>\n",
       "  </tbody>\n",
       "</table>\n",
       "</div>"
      ],
      "text/plain": [
       "  CustomerID LastPurchaseDate\n",
       "0    12346.0       2011-01-18\n",
       "1    12347.0       2011-12-07\n",
       "2    12348.0       2011-09-25\n",
       "3    12349.0       2011-11-21\n",
       "4    12350.0       2011-02-02"
      ]
     },
     "execution_count": 34,
     "metadata": {},
     "output_type": "execute_result"
    }
   ],
   "source": [
    "Recency =df2.groupby('CustomerID')['Date'].max().reset_index().rename(columns = {'Date': 'LastPurchaseDate'})\n",
    "\n",
    "Recency.head()"
   ]
  },
  {
   "cell_type": "code",
   "execution_count": 35,
   "id": "15e69d3b-aaba-4c57-9f31-d1a32f6df235",
   "metadata": {},
   "outputs": [],
   "source": [
    "# Convert 'LastPurchaseDate' to datetime format\n",
    "Recency[\"LastPurchaseDate\"] = pd.to_datetime(Recency[\"LastPurchaseDate\"])"
   ]
  },
  {
   "cell_type": "code",
   "execution_count": 36,
   "id": "a8ff286d-4c46-4fdb-a519-33af11f405a4",
   "metadata": {},
   "outputs": [
    {
     "name": "stdout",
     "output_type": "stream",
     "text": [
      "2011-12-09\n"
     ]
    }
   ],
   "source": [
    "latest_date =df2[\"Date\"].max()\n",
    "print(latest_date)"
   ]
  },
  {
   "cell_type": "code",
   "execution_count": 37,
   "id": "c8af88b1-ab28-4ed6-8bec-11975e02ffb4",
   "metadata": {},
   "outputs": [],
   "source": [
    "latest_date = pd.to_datetime(latest_date)"
   ]
  },
  {
   "cell_type": "code",
   "execution_count": 38,
   "id": "1474d459-bff7-4238-a5eb-4b5affed1271",
   "metadata": {},
   "outputs": [],
   "source": [
    "Recency[\"Recency\"] = (latest_date - Recency[\"LastPurchaseDate\"]).dt.days"
   ]
  },
  {
   "cell_type": "code",
   "execution_count": 39,
   "id": "44441e4a-0717-42a3-8cbf-a1991b9c650c",
   "metadata": {},
   "outputs": [
    {
     "data": {
      "text/html": [
       "<div>\n",
       "<style scoped>\n",
       "    .dataframe tbody tr th:only-of-type {\n",
       "        vertical-align: middle;\n",
       "    }\n",
       "\n",
       "    .dataframe tbody tr th {\n",
       "        vertical-align: top;\n",
       "    }\n",
       "\n",
       "    .dataframe thead th {\n",
       "        text-align: right;\n",
       "    }\n",
       "</style>\n",
       "<table border=\"1\" class=\"dataframe\">\n",
       "  <thead>\n",
       "    <tr style=\"text-align: right;\">\n",
       "      <th></th>\n",
       "      <th>CustomerID</th>\n",
       "      <th>LastPurchaseDate</th>\n",
       "      <th>Recency</th>\n",
       "    </tr>\n",
       "  </thead>\n",
       "  <tbody>\n",
       "    <tr>\n",
       "      <th>0</th>\n",
       "      <td>12346.0</td>\n",
       "      <td>2011-01-18</td>\n",
       "      <td>325</td>\n",
       "    </tr>\n",
       "    <tr>\n",
       "      <th>1</th>\n",
       "      <td>12347.0</td>\n",
       "      <td>2011-12-07</td>\n",
       "      <td>2</td>\n",
       "    </tr>\n",
       "    <tr>\n",
       "      <th>2</th>\n",
       "      <td>12348.0</td>\n",
       "      <td>2011-09-25</td>\n",
       "      <td>75</td>\n",
       "    </tr>\n",
       "    <tr>\n",
       "      <th>3</th>\n",
       "      <td>12349.0</td>\n",
       "      <td>2011-11-21</td>\n",
       "      <td>18</td>\n",
       "    </tr>\n",
       "    <tr>\n",
       "      <th>4</th>\n",
       "      <td>12350.0</td>\n",
       "      <td>2011-02-02</td>\n",
       "      <td>310</td>\n",
       "    </tr>\n",
       "  </tbody>\n",
       "</table>\n",
       "</div>"
      ],
      "text/plain": [
       "  CustomerID LastPurchaseDate  Recency\n",
       "0    12346.0       2011-01-18      325\n",
       "1    12347.0       2011-12-07        2\n",
       "2    12348.0       2011-09-25       75\n",
       "3    12349.0       2011-11-21       18\n",
       "4    12350.0       2011-02-02      310"
      ]
     },
     "execution_count": 39,
     "metadata": {},
     "output_type": "execute_result"
    }
   ],
   "source": [
    "Recency.head()"
   ]
  },
  {
   "cell_type": "code",
   "execution_count": 40,
   "id": "99629d0a-ec14-4886-857f-65db2b2bd3d2",
   "metadata": {},
   "outputs": [],
   "source": [
    "# Merging All RFM data\n",
    "RFM = pd.merge(Monetary, Frequency, on = \"CustomerID\", how = \"inner\")"
   ]
  },
  {
   "cell_type": "code",
   "execution_count": 41,
   "id": "20cc63ba-3705-4f92-b1a7-715ccce30bae",
   "metadata": {},
   "outputs": [
    {
     "data": {
      "text/html": [
       "<div>\n",
       "<style scoped>\n",
       "    .dataframe tbody tr th:only-of-type {\n",
       "        vertical-align: middle;\n",
       "    }\n",
       "\n",
       "    .dataframe tbody tr th {\n",
       "        vertical-align: top;\n",
       "    }\n",
       "\n",
       "    .dataframe thead th {\n",
       "        text-align: right;\n",
       "    }\n",
       "</style>\n",
       "<table border=\"1\" class=\"dataframe\">\n",
       "  <thead>\n",
       "    <tr style=\"text-align: right;\">\n",
       "      <th></th>\n",
       "      <th>CustomerID</th>\n",
       "      <th>LastPurchaseDate</th>\n",
       "      <th>Recency</th>\n",
       "      <th>Amount</th>\n",
       "      <th>Frequency</th>\n",
       "    </tr>\n",
       "  </thead>\n",
       "  <tbody>\n",
       "    <tr>\n",
       "      <th>0</th>\n",
       "      <td>12346.0</td>\n",
       "      <td>2011-01-18</td>\n",
       "      <td>325</td>\n",
       "      <td>77183.60</td>\n",
       "      <td>1</td>\n",
       "    </tr>\n",
       "    <tr>\n",
       "      <th>1</th>\n",
       "      <td>12347.0</td>\n",
       "      <td>2011-12-07</td>\n",
       "      <td>2</td>\n",
       "      <td>4310.00</td>\n",
       "      <td>182</td>\n",
       "    </tr>\n",
       "    <tr>\n",
       "      <th>2</th>\n",
       "      <td>12348.0</td>\n",
       "      <td>2011-09-25</td>\n",
       "      <td>75</td>\n",
       "      <td>1797.24</td>\n",
       "      <td>31</td>\n",
       "    </tr>\n",
       "    <tr>\n",
       "      <th>3</th>\n",
       "      <td>12349.0</td>\n",
       "      <td>2011-11-21</td>\n",
       "      <td>18</td>\n",
       "      <td>1757.55</td>\n",
       "      <td>73</td>\n",
       "    </tr>\n",
       "    <tr>\n",
       "      <th>4</th>\n",
       "      <td>12350.0</td>\n",
       "      <td>2011-02-02</td>\n",
       "      <td>310</td>\n",
       "      <td>334.40</td>\n",
       "      <td>17</td>\n",
       "    </tr>\n",
       "  </tbody>\n",
       "</table>\n",
       "</div>"
      ],
      "text/plain": [
       "  CustomerID LastPurchaseDate  Recency    Amount  Frequency\n",
       "0    12346.0       2011-01-18      325  77183.60          1\n",
       "1    12347.0       2011-12-07        2   4310.00        182\n",
       "2    12348.0       2011-09-25       75   1797.24         31\n",
       "3    12349.0       2011-11-21       18   1757.55         73\n",
       "4    12350.0       2011-02-02      310    334.40         17"
      ]
     },
     "execution_count": 41,
     "metadata": {},
     "output_type": "execute_result"
    }
   ],
   "source": [
    "RFM = pd.merge(Recency, RFM,  on = \"CustomerID\", how = \"inner\")\n",
    "RFM.head()"
   ]
  },
  {
   "cell_type": "code",
   "execution_count": 42,
   "id": "af298d18-40e5-4da5-9d38-de8140c9de9f",
   "metadata": {},
   "outputs": [],
   "source": [
    "RFM = RFM.rename(columns = {\"Amount\": \"Monetary\"})"
   ]
  },
  {
   "cell_type": "code",
   "execution_count": 43,
   "id": "cbf5ae4b-f48c-4431-b0cd-44329870e146",
   "metadata": {},
   "outputs": [],
   "source": [
    "RFM = RFM[['CustomerID', 'Recency', 'Monetary', 'Frequency']]"
   ]
  },
  {
   "cell_type": "code",
   "execution_count": 44,
   "id": "f6e404ec-4d23-4612-b0f2-f510a89328f2",
   "metadata": {},
   "outputs": [
    {
     "data": {
      "text/html": [
       "<div>\n",
       "<style scoped>\n",
       "    .dataframe tbody tr th:only-of-type {\n",
       "        vertical-align: middle;\n",
       "    }\n",
       "\n",
       "    .dataframe tbody tr th {\n",
       "        vertical-align: top;\n",
       "    }\n",
       "\n",
       "    .dataframe thead th {\n",
       "        text-align: right;\n",
       "    }\n",
       "</style>\n",
       "<table border=\"1\" class=\"dataframe\">\n",
       "  <thead>\n",
       "    <tr style=\"text-align: right;\">\n",
       "      <th></th>\n",
       "      <th>count</th>\n",
       "      <th>mean</th>\n",
       "      <th>std</th>\n",
       "      <th>min</th>\n",
       "      <th>25%</th>\n",
       "      <th>50%</th>\n",
       "      <th>75%</th>\n",
       "      <th>max</th>\n",
       "    </tr>\n",
       "  </thead>\n",
       "  <tbody>\n",
       "    <tr>\n",
       "      <th>Recency</th>\n",
       "      <td>4338.0</td>\n",
       "      <td>92.059474</td>\n",
       "      <td>100.012264</td>\n",
       "      <td>0.00</td>\n",
       "      <td>17.000</td>\n",
       "      <td>50.000</td>\n",
       "      <td>141.75</td>\n",
       "      <td>373.00</td>\n",
       "    </tr>\n",
       "    <tr>\n",
       "      <th>Monetary</th>\n",
       "      <td>4338.0</td>\n",
       "      <td>2054.266460</td>\n",
       "      <td>8989.230441</td>\n",
       "      <td>3.75</td>\n",
       "      <td>307.415</td>\n",
       "      <td>674.485</td>\n",
       "      <td>1661.74</td>\n",
       "      <td>280206.02</td>\n",
       "    </tr>\n",
       "    <tr>\n",
       "      <th>Frequency</th>\n",
       "      <td>4338.0</td>\n",
       "      <td>91.720609</td>\n",
       "      <td>228.785094</td>\n",
       "      <td>1.00</td>\n",
       "      <td>17.000</td>\n",
       "      <td>41.000</td>\n",
       "      <td>100.00</td>\n",
       "      <td>7847.00</td>\n",
       "    </tr>\n",
       "  </tbody>\n",
       "</table>\n",
       "</div>"
      ],
      "text/plain": [
       "            count         mean          std   min      25%      50%      75%  \\\n",
       "Recency    4338.0    92.059474   100.012264  0.00   17.000   50.000   141.75   \n",
       "Monetary   4338.0  2054.266460  8989.230441  3.75  307.415  674.485  1661.74   \n",
       "Frequency  4338.0    91.720609   228.785094  1.00   17.000   41.000   100.00   \n",
       "\n",
       "                 max  \n",
       "Recency       373.00  \n",
       "Monetary   280206.02  \n",
       "Frequency    7847.00  "
      ]
     },
     "execution_count": 44,
     "metadata": {},
     "output_type": "execute_result"
    }
   ],
   "source": [
    "RFM.describe().T"
   ]
  },
  {
   "cell_type": "code",
   "execution_count": 45,
   "id": "e0160727-a011-4e5e-a236-2985dc912a62",
   "metadata": {},
   "outputs": [
    {
     "data": {
      "text/plain": [
       "(4338, 4)"
      ]
     },
     "execution_count": 45,
     "metadata": {},
     "output_type": "execute_result"
    }
   ],
   "source": [
    "RFM.shape"
   ]
  },
  {
   "cell_type": "markdown",
   "id": "6c8fd0c5-c0bb-4013-a64a-a3828d4c4887",
   "metadata": {},
   "source": [
    "## 4.4 RFM Score "
   ]
  },
  {
   "cell_type": "code",
   "execution_count": 46,
   "id": "d311fb36-1e24-48b8-80b7-ddfee6e65ac6",
   "metadata": {},
   "outputs": [],
   "source": [
    "RFM_SCORE = RFM.copy()"
   ]
  },
  {
   "cell_type": "code",
   "execution_count": 47,
   "id": "4242b317-3720-428e-9e63-d4e81a1c4012",
   "metadata": {},
   "outputs": [
    {
     "data": {
      "text/html": [
       "<div>\n",
       "<style scoped>\n",
       "    .dataframe tbody tr th:only-of-type {\n",
       "        vertical-align: middle;\n",
       "    }\n",
       "\n",
       "    .dataframe tbody tr th {\n",
       "        vertical-align: top;\n",
       "    }\n",
       "\n",
       "    .dataframe thead th {\n",
       "        text-align: right;\n",
       "    }\n",
       "</style>\n",
       "<table border=\"1\" class=\"dataframe\">\n",
       "  <thead>\n",
       "    <tr style=\"text-align: right;\">\n",
       "      <th></th>\n",
       "      <th>CustomerID</th>\n",
       "      <th>Recency</th>\n",
       "      <th>Monetary</th>\n",
       "      <th>Frequency</th>\n",
       "    </tr>\n",
       "  </thead>\n",
       "  <tbody>\n",
       "    <tr>\n",
       "      <th>0</th>\n",
       "      <td>12346.0</td>\n",
       "      <td>325</td>\n",
       "      <td>77183.60</td>\n",
       "      <td>1</td>\n",
       "    </tr>\n",
       "    <tr>\n",
       "      <th>1</th>\n",
       "      <td>12347.0</td>\n",
       "      <td>2</td>\n",
       "      <td>4310.00</td>\n",
       "      <td>182</td>\n",
       "    </tr>\n",
       "    <tr>\n",
       "      <th>2</th>\n",
       "      <td>12348.0</td>\n",
       "      <td>75</td>\n",
       "      <td>1797.24</td>\n",
       "      <td>31</td>\n",
       "    </tr>\n",
       "    <tr>\n",
       "      <th>3</th>\n",
       "      <td>12349.0</td>\n",
       "      <td>18</td>\n",
       "      <td>1757.55</td>\n",
       "      <td>73</td>\n",
       "    </tr>\n",
       "    <tr>\n",
       "      <th>4</th>\n",
       "      <td>12350.0</td>\n",
       "      <td>310</td>\n",
       "      <td>334.40</td>\n",
       "      <td>17</td>\n",
       "    </tr>\n",
       "  </tbody>\n",
       "</table>\n",
       "</div>"
      ],
      "text/plain": [
       "  CustomerID  Recency  Monetary  Frequency\n",
       "0    12346.0      325  77183.60          1\n",
       "1    12347.0        2   4310.00        182\n",
       "2    12348.0       75   1797.24         31\n",
       "3    12349.0       18   1757.55         73\n",
       "4    12350.0      310    334.40         17"
      ]
     },
     "execution_count": 47,
     "metadata": {},
     "output_type": "execute_result"
    }
   ],
   "source": [
    "RFM_SCORE.head()"
   ]
  },
  {
   "cell_type": "code",
   "execution_count": 48,
   "id": "b4ad4aa2-4b07-427d-8a32-88c7ef4783e9",
   "metadata": {},
   "outputs": [],
   "source": [
    "RFM_SCORE[\"Recency_score\"] = pd.qcut(RFM_SCORE[\"Recency\"], 5, labels=[5,4,3,2,1])"
   ]
  },
  {
   "cell_type": "code",
   "execution_count": 49,
   "id": "cdac678c-fc7a-4d5a-8d6b-5338ee7a2aef",
   "metadata": {},
   "outputs": [],
   "source": [
    "RFM_SCORE[\"Frequency_score\"] = pd.qcut(RFM_SCORE[\"Frequency\"].rank(method = \"first\"), 5, labels= [5,4,3,2,1])"
   ]
  },
  {
   "cell_type": "code",
   "execution_count": 50,
   "id": "1fd8c78a-ed21-458a-b7cb-513f6bd1213d",
   "metadata": {},
   "outputs": [],
   "source": [
    "RFM_SCORE[\"Monetary_score\"] = pd.qcut(RFM_SCORE[\"Monetary\"], 5, labels= [1,2,3,4,5])"
   ]
  },
  {
   "cell_type": "code",
   "execution_count": 51,
   "id": "11f127d8-252c-4ab0-88d0-fe7d68806041",
   "metadata": {},
   "outputs": [
    {
     "data": {
      "text/html": [
       "<div>\n",
       "<style scoped>\n",
       "    .dataframe tbody tr th:only-of-type {\n",
       "        vertical-align: middle;\n",
       "    }\n",
       "\n",
       "    .dataframe tbody tr th {\n",
       "        vertical-align: top;\n",
       "    }\n",
       "\n",
       "    .dataframe thead th {\n",
       "        text-align: right;\n",
       "    }\n",
       "</style>\n",
       "<table border=\"1\" class=\"dataframe\">\n",
       "  <thead>\n",
       "    <tr style=\"text-align: right;\">\n",
       "      <th></th>\n",
       "      <th>CustomerID</th>\n",
       "      <th>Recency</th>\n",
       "      <th>Monetary</th>\n",
       "      <th>Frequency</th>\n",
       "      <th>Recency_score</th>\n",
       "      <th>Frequency_score</th>\n",
       "      <th>Monetary_score</th>\n",
       "    </tr>\n",
       "  </thead>\n",
       "  <tbody>\n",
       "    <tr>\n",
       "      <th>0</th>\n",
       "      <td>12346.0</td>\n",
       "      <td>325</td>\n",
       "      <td>77183.60</td>\n",
       "      <td>1</td>\n",
       "      <td>1</td>\n",
       "      <td>5</td>\n",
       "      <td>5</td>\n",
       "    </tr>\n",
       "    <tr>\n",
       "      <th>1</th>\n",
       "      <td>12347.0</td>\n",
       "      <td>2</td>\n",
       "      <td>4310.00</td>\n",
       "      <td>182</td>\n",
       "      <td>5</td>\n",
       "      <td>1</td>\n",
       "      <td>5</td>\n",
       "    </tr>\n",
       "    <tr>\n",
       "      <th>2</th>\n",
       "      <td>12348.0</td>\n",
       "      <td>75</td>\n",
       "      <td>1797.24</td>\n",
       "      <td>31</td>\n",
       "      <td>2</td>\n",
       "      <td>3</td>\n",
       "      <td>4</td>\n",
       "    </tr>\n",
       "    <tr>\n",
       "      <th>3</th>\n",
       "      <td>12349.0</td>\n",
       "      <td>18</td>\n",
       "      <td>1757.55</td>\n",
       "      <td>73</td>\n",
       "      <td>4</td>\n",
       "      <td>2</td>\n",
       "      <td>4</td>\n",
       "    </tr>\n",
       "    <tr>\n",
       "      <th>4</th>\n",
       "      <td>12350.0</td>\n",
       "      <td>310</td>\n",
       "      <td>334.40</td>\n",
       "      <td>17</td>\n",
       "      <td>1</td>\n",
       "      <td>4</td>\n",
       "      <td>2</td>\n",
       "    </tr>\n",
       "  </tbody>\n",
       "</table>\n",
       "</div>"
      ],
      "text/plain": [
       "  CustomerID  Recency  Monetary  Frequency Recency_score Frequency_score  \\\n",
       "0    12346.0      325  77183.60          1             1               5   \n",
       "1    12347.0        2   4310.00        182             5               1   \n",
       "2    12348.0       75   1797.24         31             2               3   \n",
       "3    12349.0       18   1757.55         73             4               2   \n",
       "4    12350.0      310    334.40         17             1               4   \n",
       "\n",
       "  Monetary_score  \n",
       "0              5  \n",
       "1              5  \n",
       "2              4  \n",
       "3              4  \n",
       "4              2  "
      ]
     },
     "execution_count": 51,
     "metadata": {},
     "output_type": "execute_result"
    }
   ],
   "source": [
    "RFM_SCORE.head()"
   ]
  },
  {
   "cell_type": "code",
   "execution_count": 52,
   "id": "7bc63d85-c0af-490a-9fe6-f5a5b4a592d2",
   "metadata": {},
   "outputs": [],
   "source": [
    "# Combined RFM\n",
    "RFM_SCORE[\"Segment\"] = (RFM_SCORE[\"Recency_score\"].astype(str) + RFM_SCORE[\"Frequency_score\"].astype(str) + RFM_SCORE[\"Monetary_score\"].astype(str))"
   ]
  },
  {
   "cell_type": "code",
   "execution_count": 53,
   "id": "cf9bfd9d-1cf4-4162-943d-c962db9c569e",
   "metadata": {},
   "outputs": [
    {
     "data": {
      "text/html": [
       "<div>\n",
       "<style scoped>\n",
       "    .dataframe tbody tr th:only-of-type {\n",
       "        vertical-align: middle;\n",
       "    }\n",
       "\n",
       "    .dataframe tbody tr th {\n",
       "        vertical-align: top;\n",
       "    }\n",
       "\n",
       "    .dataframe thead th {\n",
       "        text-align: right;\n",
       "    }\n",
       "</style>\n",
       "<table border=\"1\" class=\"dataframe\">\n",
       "  <thead>\n",
       "    <tr style=\"text-align: right;\">\n",
       "      <th></th>\n",
       "      <th>CustomerID</th>\n",
       "      <th>Recency</th>\n",
       "      <th>Monetary</th>\n",
       "      <th>Frequency</th>\n",
       "      <th>Recency_score</th>\n",
       "      <th>Frequency_score</th>\n",
       "      <th>Monetary_score</th>\n",
       "      <th>Segment</th>\n",
       "    </tr>\n",
       "  </thead>\n",
       "  <tbody>\n",
       "    <tr>\n",
       "      <th>0</th>\n",
       "      <td>12346.0</td>\n",
       "      <td>325</td>\n",
       "      <td>77183.60</td>\n",
       "      <td>1</td>\n",
       "      <td>1</td>\n",
       "      <td>5</td>\n",
       "      <td>5</td>\n",
       "      <td>155</td>\n",
       "    </tr>\n",
       "    <tr>\n",
       "      <th>1</th>\n",
       "      <td>12347.0</td>\n",
       "      <td>2</td>\n",
       "      <td>4310.00</td>\n",
       "      <td>182</td>\n",
       "      <td>5</td>\n",
       "      <td>1</td>\n",
       "      <td>5</td>\n",
       "      <td>515</td>\n",
       "    </tr>\n",
       "    <tr>\n",
       "      <th>2</th>\n",
       "      <td>12348.0</td>\n",
       "      <td>75</td>\n",
       "      <td>1797.24</td>\n",
       "      <td>31</td>\n",
       "      <td>2</td>\n",
       "      <td>3</td>\n",
       "      <td>4</td>\n",
       "      <td>234</td>\n",
       "    </tr>\n",
       "    <tr>\n",
       "      <th>3</th>\n",
       "      <td>12349.0</td>\n",
       "      <td>18</td>\n",
       "      <td>1757.55</td>\n",
       "      <td>73</td>\n",
       "      <td>4</td>\n",
       "      <td>2</td>\n",
       "      <td>4</td>\n",
       "      <td>424</td>\n",
       "    </tr>\n",
       "    <tr>\n",
       "      <th>4</th>\n",
       "      <td>12350.0</td>\n",
       "      <td>310</td>\n",
       "      <td>334.40</td>\n",
       "      <td>17</td>\n",
       "      <td>1</td>\n",
       "      <td>4</td>\n",
       "      <td>2</td>\n",
       "      <td>142</td>\n",
       "    </tr>\n",
       "  </tbody>\n",
       "</table>\n",
       "</div>"
      ],
      "text/plain": [
       "  CustomerID  Recency  Monetary  Frequency Recency_score Frequency_score  \\\n",
       "0    12346.0      325  77183.60          1             1               5   \n",
       "1    12347.0        2   4310.00        182             5               1   \n",
       "2    12348.0       75   1797.24         31             2               3   \n",
       "3    12349.0       18   1757.55         73             4               2   \n",
       "4    12350.0      310    334.40         17             1               4   \n",
       "\n",
       "  Monetary_score Segment  \n",
       "0              5     155  \n",
       "1              5     515  \n",
       "2              4     234  \n",
       "3              4     424  \n",
       "4              2     142  "
      ]
     },
     "execution_count": 53,
     "metadata": {},
     "output_type": "execute_result"
    }
   ],
   "source": [
    "RFM_SCORE.head()"
   ]
  },
  {
   "cell_type": "code",
   "execution_count": 54,
   "id": "56a8666f-e167-439b-9a02-f51c26667651",
   "metadata": {},
   "outputs": [],
   "source": [
    "## Lable Sum\n",
    "RFM_SCORE['RFM_Score_sum']= RFM_SCORE[[\"Recency_score\", \"Frequency_score\", \"Monetary_score\"]].sum(axis = 1)"
   ]
  },
  {
   "cell_type": "code",
   "execution_count": 55,
   "id": "83506bf0-4d4a-40ed-a5ef-b5fe8760d113",
   "metadata": {},
   "outputs": [
    {
     "data": {
      "text/html": [
       "<div>\n",
       "<style scoped>\n",
       "    .dataframe tbody tr th:only-of-type {\n",
       "        vertical-align: middle;\n",
       "    }\n",
       "\n",
       "    .dataframe tbody tr th {\n",
       "        vertical-align: top;\n",
       "    }\n",
       "\n",
       "    .dataframe thead th {\n",
       "        text-align: right;\n",
       "    }\n",
       "</style>\n",
       "<table border=\"1\" class=\"dataframe\">\n",
       "  <thead>\n",
       "    <tr style=\"text-align: right;\">\n",
       "      <th></th>\n",
       "      <th>CustomerID</th>\n",
       "      <th>Recency</th>\n",
       "      <th>Monetary</th>\n",
       "      <th>Frequency</th>\n",
       "      <th>Recency_score</th>\n",
       "      <th>Frequency_score</th>\n",
       "      <th>Monetary_score</th>\n",
       "      <th>Segment</th>\n",
       "      <th>RFM_Score_sum</th>\n",
       "    </tr>\n",
       "  </thead>\n",
       "  <tbody>\n",
       "    <tr>\n",
       "      <th>0</th>\n",
       "      <td>12346.0</td>\n",
       "      <td>325</td>\n",
       "      <td>77183.60</td>\n",
       "      <td>1</td>\n",
       "      <td>1</td>\n",
       "      <td>5</td>\n",
       "      <td>5</td>\n",
       "      <td>155</td>\n",
       "      <td>11</td>\n",
       "    </tr>\n",
       "    <tr>\n",
       "      <th>1</th>\n",
       "      <td>12347.0</td>\n",
       "      <td>2</td>\n",
       "      <td>4310.00</td>\n",
       "      <td>182</td>\n",
       "      <td>5</td>\n",
       "      <td>1</td>\n",
       "      <td>5</td>\n",
       "      <td>515</td>\n",
       "      <td>11</td>\n",
       "    </tr>\n",
       "    <tr>\n",
       "      <th>2</th>\n",
       "      <td>12348.0</td>\n",
       "      <td>75</td>\n",
       "      <td>1797.24</td>\n",
       "      <td>31</td>\n",
       "      <td>2</td>\n",
       "      <td>3</td>\n",
       "      <td>4</td>\n",
       "      <td>234</td>\n",
       "      <td>9</td>\n",
       "    </tr>\n",
       "    <tr>\n",
       "      <th>3</th>\n",
       "      <td>12349.0</td>\n",
       "      <td>18</td>\n",
       "      <td>1757.55</td>\n",
       "      <td>73</td>\n",
       "      <td>4</td>\n",
       "      <td>2</td>\n",
       "      <td>4</td>\n",
       "      <td>424</td>\n",
       "      <td>10</td>\n",
       "    </tr>\n",
       "    <tr>\n",
       "      <th>4</th>\n",
       "      <td>12350.0</td>\n",
       "      <td>310</td>\n",
       "      <td>334.40</td>\n",
       "      <td>17</td>\n",
       "      <td>1</td>\n",
       "      <td>4</td>\n",
       "      <td>2</td>\n",
       "      <td>142</td>\n",
       "      <td>7</td>\n",
       "    </tr>\n",
       "  </tbody>\n",
       "</table>\n",
       "</div>"
      ],
      "text/plain": [
       "  CustomerID  Recency  Monetary  Frequency Recency_score Frequency_score  \\\n",
       "0    12346.0      325  77183.60          1             1               5   \n",
       "1    12347.0        2   4310.00        182             5               1   \n",
       "2    12348.0       75   1797.24         31             2               3   \n",
       "3    12349.0       18   1757.55         73             4               2   \n",
       "4    12350.0      310    334.40         17             1               4   \n",
       "\n",
       "  Monetary_score Segment  RFM_Score_sum  \n",
       "0              5     155             11  \n",
       "1              5     515             11  \n",
       "2              4     234              9  \n",
       "3              4     424             10  \n",
       "4              2     142              7  "
      ]
     },
     "execution_count": 55,
     "metadata": {},
     "output_type": "execute_result"
    }
   ],
   "source": [
    "RFM_SCORE.head()"
   ]
  },
  {
   "cell_type": "code",
   "execution_count": 56,
   "id": "128f10d0-19c7-4ac4-a791-445f9b9f3072",
   "metadata": {},
   "outputs": [],
   "source": [
    "Mapping = {r'[4-5][4-5][4-5]': 'Best Customer',\n",
    "          r'[1-5][4-5][1-5]':'Loyal Customer',\n",
    "          r'[1-5][1-5][4-5]': 'Big Spender',\n",
    "          r'[2-3][1-5][1-5]': 'Almost lost',\n",
    "          r'[1][1-5][1-5]': 'Lost customer',\n",
    "          r'[4-5][1-3][1-3]': 'New Low Spender'\n",
    "          }"
   ]
  },
  {
   "cell_type": "code",
   "execution_count": 57,
   "id": "6264cbd2-e54e-4636-a2b8-295824baff44",
   "metadata": {},
   "outputs": [
    {
     "data": {
      "text/html": [
       "<div>\n",
       "<style scoped>\n",
       "    .dataframe tbody tr th:only-of-type {\n",
       "        vertical-align: middle;\n",
       "    }\n",
       "\n",
       "    .dataframe tbody tr th {\n",
       "        vertical-align: top;\n",
       "    }\n",
       "\n",
       "    .dataframe thead th {\n",
       "        text-align: right;\n",
       "    }\n",
       "</style>\n",
       "<table border=\"1\" class=\"dataframe\">\n",
       "  <thead>\n",
       "    <tr style=\"text-align: right;\">\n",
       "      <th></th>\n",
       "      <th>CustomerID</th>\n",
       "      <th>Recency</th>\n",
       "      <th>Monetary</th>\n",
       "      <th>Frequency</th>\n",
       "      <th>Recency_score</th>\n",
       "      <th>Frequency_score</th>\n",
       "      <th>Monetary_score</th>\n",
       "      <th>Segment</th>\n",
       "      <th>RFM_Score_sum</th>\n",
       "      <th>Lable_segment</th>\n",
       "    </tr>\n",
       "  </thead>\n",
       "  <tbody>\n",
       "    <tr>\n",
       "      <th>0</th>\n",
       "      <td>12346.0</td>\n",
       "      <td>325</td>\n",
       "      <td>77183.60</td>\n",
       "      <td>1</td>\n",
       "      <td>1</td>\n",
       "      <td>5</td>\n",
       "      <td>5</td>\n",
       "      <td>155</td>\n",
       "      <td>11</td>\n",
       "      <td>Loyal Customer</td>\n",
       "    </tr>\n",
       "    <tr>\n",
       "      <th>1</th>\n",
       "      <td>12347.0</td>\n",
       "      <td>2</td>\n",
       "      <td>4310.00</td>\n",
       "      <td>182</td>\n",
       "      <td>5</td>\n",
       "      <td>1</td>\n",
       "      <td>5</td>\n",
       "      <td>515</td>\n",
       "      <td>11</td>\n",
       "      <td>Big Spender</td>\n",
       "    </tr>\n",
       "    <tr>\n",
       "      <th>2</th>\n",
       "      <td>12348.0</td>\n",
       "      <td>75</td>\n",
       "      <td>1797.24</td>\n",
       "      <td>31</td>\n",
       "      <td>2</td>\n",
       "      <td>3</td>\n",
       "      <td>4</td>\n",
       "      <td>234</td>\n",
       "      <td>9</td>\n",
       "      <td>Big Spender</td>\n",
       "    </tr>\n",
       "    <tr>\n",
       "      <th>3</th>\n",
       "      <td>12349.0</td>\n",
       "      <td>18</td>\n",
       "      <td>1757.55</td>\n",
       "      <td>73</td>\n",
       "      <td>4</td>\n",
       "      <td>2</td>\n",
       "      <td>4</td>\n",
       "      <td>424</td>\n",
       "      <td>10</td>\n",
       "      <td>Big Spender</td>\n",
       "    </tr>\n",
       "    <tr>\n",
       "      <th>4</th>\n",
       "      <td>12350.0</td>\n",
       "      <td>310</td>\n",
       "      <td>334.40</td>\n",
       "      <td>17</td>\n",
       "      <td>1</td>\n",
       "      <td>4</td>\n",
       "      <td>2</td>\n",
       "      <td>142</td>\n",
       "      <td>7</td>\n",
       "      <td>Loyal Customer</td>\n",
       "    </tr>\n",
       "  </tbody>\n",
       "</table>\n",
       "</div>"
      ],
      "text/plain": [
       "  CustomerID  Recency  Monetary  Frequency Recency_score Frequency_score  \\\n",
       "0    12346.0      325  77183.60          1             1               5   \n",
       "1    12347.0        2   4310.00        182             5               1   \n",
       "2    12348.0       75   1797.24         31             2               3   \n",
       "3    12349.0       18   1757.55         73             4               2   \n",
       "4    12350.0      310    334.40         17             1               4   \n",
       "\n",
       "  Monetary_score Segment  RFM_Score_sum   Lable_segment  \n",
       "0              5     155             11  Loyal Customer  \n",
       "1              5     515             11     Big Spender  \n",
       "2              4     234              9     Big Spender  \n",
       "3              4     424             10     Big Spender  \n",
       "4              2     142              7  Loyal Customer  "
      ]
     },
     "execution_count": 57,
     "metadata": {},
     "output_type": "execute_result"
    }
   ],
   "source": [
    "RFM_SCORE['Lable_segment'] = RFM_SCORE[\"Segment\"].replace(Mapping, regex = True)\n",
    "RFM_SCORE.head()"
   ]
  },
  {
   "cell_type": "code",
   "execution_count": 58,
   "id": "7fb954b0-4934-49bc-8634-180d27298968",
   "metadata": {},
   "outputs": [
    {
     "data": {
      "text/html": [
       "<div>\n",
       "<style scoped>\n",
       "    .dataframe tbody tr th:only-of-type {\n",
       "        vertical-align: middle;\n",
       "    }\n",
       "\n",
       "    .dataframe tbody tr th {\n",
       "        vertical-align: top;\n",
       "    }\n",
       "\n",
       "    .dataframe thead th {\n",
       "        text-align: right;\n",
       "    }\n",
       "</style>\n",
       "<table border=\"1\" class=\"dataframe\">\n",
       "  <thead>\n",
       "    <tr style=\"text-align: right;\">\n",
       "      <th></th>\n",
       "      <th>CustomerID</th>\n",
       "    </tr>\n",
       "    <tr>\n",
       "      <th>Lable_segment</th>\n",
       "      <th></th>\n",
       "    </tr>\n",
       "  </thead>\n",
       "  <tbody>\n",
       "    <tr>\n",
       "      <th>Loyal Customer</th>\n",
       "      <td>1687</td>\n",
       "    </tr>\n",
       "    <tr>\n",
       "      <th>Big Spender</th>\n",
       "      <td>1603</td>\n",
       "    </tr>\n",
       "    <tr>\n",
       "      <th>Almost lost</th>\n",
       "      <td>462</td>\n",
       "    </tr>\n",
       "    <tr>\n",
       "      <th>New Low Spender</th>\n",
       "      <td>372</td>\n",
       "    </tr>\n",
       "    <tr>\n",
       "      <th>Lost customer</th>\n",
       "      <td>166</td>\n",
       "    </tr>\n",
       "    <tr>\n",
       "      <th>Best Customer</th>\n",
       "      <td>48</td>\n",
       "    </tr>\n",
       "  </tbody>\n",
       "</table>\n",
       "</div>"
      ],
      "text/plain": [
       "                 CustomerID\n",
       "Lable_segment              \n",
       "Loyal Customer         1687\n",
       "Big Spender            1603\n",
       "Almost lost             462\n",
       "New Low Spender         372\n",
       "Lost customer           166\n",
       "Best Customer            48"
      ]
     },
     "execution_count": 58,
     "metadata": {},
     "output_type": "execute_result"
    }
   ],
   "source": [
    "RFM_SCORE.groupby([\"Lable_segment\"]).agg({\"CustomerID\":\"count\"}).sort_values(\"CustomerID\", ascending = False)"
   ]
  },
  {
   "cell_type": "code",
   "execution_count": 59,
   "id": "e55553dc-3a9d-49eb-8f39-f095391426cf",
   "metadata": {},
   "outputs": [
    {
     "data": {
      "image/png": "[encoded data removed]",
      "text/plain": [
       "<Figure size 1000x600 with 1 Axes>"
      ]
     },
     "metadata": {},
     "output_type": "display_data"
    }
   ],
   "source": [
    "# Count the number of customers in each segment\n",
    "segment_counts = RFM_SCORE['Lable_segment'].value_counts()\n",
    "\n",
    "# Plot bar chart\n",
    "plt.figure(figsize=(10, 6))\n",
    "sns.barplot(x=segment_counts.index, y=segment_counts.values, palette=\"viridis\")\n",
    "\n",
    "# Labels and title\n",
    "plt.xlabel(\"Customer Segments\")\n",
    "plt.ylabel(\"Count\")\n",
    "plt.title(\"Customer Segment Distribution\")\n",
    "plt.xticks(rotation=45)  # Rotate labels for better readability\n",
    "plt.show()"
   ]
  },
  {
   "cell_type": "code",
   "execution_count": 60,
   "id": "bf62bbc3-85b8-4a9d-aeb7-7ec86fffc5e6",
   "metadata": {},
   "outputs": [],
   "source": [
    "RFM_SCORE_DF = RFM_SCORE[['CustomerID', 'Recency', 'Monetary', 'Frequency']]"
   ]
  },
  {
   "cell_type": "markdown",
   "id": "80837485-ed3b-446d-8140-f7f709e62d7c",
   "metadata": {},
   "source": [
    "### 5. Modeling K-Means Cluster"
   ]
  },
  {
   "cell_type": "code",
   "execution_count": 61,
   "id": "5b0d8939-60c9-4fc6-aa11-e17d4863074c",
   "metadata": {},
   "outputs": [
    {
     "data": {
      "text/html": [
       "<div>\n",
       "<style scoped>\n",
       "    .dataframe tbody tr th:only-of-type {\n",
       "        vertical-align: middle;\n",
       "    }\n",
       "\n",
       "    .dataframe tbody tr th {\n",
       "        vertical-align: top;\n",
       "    }\n",
       "\n",
       "    .dataframe thead th {\n",
       "        text-align: right;\n",
       "    }\n",
       "</style>\n",
       "<table border=\"1\" class=\"dataframe\">\n",
       "  <thead>\n",
       "    <tr style=\"text-align: right;\">\n",
       "      <th></th>\n",
       "      <th>CustomerID</th>\n",
       "      <th>Recency</th>\n",
       "      <th>Monetary</th>\n",
       "      <th>Frequency</th>\n",
       "    </tr>\n",
       "  </thead>\n",
       "  <tbody>\n",
       "    <tr>\n",
       "      <th>0</th>\n",
       "      <td>12346.0</td>\n",
       "      <td>325</td>\n",
       "      <td>77183.60</td>\n",
       "      <td>1</td>\n",
       "    </tr>\n",
       "    <tr>\n",
       "      <th>1</th>\n",
       "      <td>12347.0</td>\n",
       "      <td>2</td>\n",
       "      <td>4310.00</td>\n",
       "      <td>182</td>\n",
       "    </tr>\n",
       "    <tr>\n",
       "      <th>2</th>\n",
       "      <td>12348.0</td>\n",
       "      <td>75</td>\n",
       "      <td>1797.24</td>\n",
       "      <td>31</td>\n",
       "    </tr>\n",
       "    <tr>\n",
       "      <th>3</th>\n",
       "      <td>12349.0</td>\n",
       "      <td>18</td>\n",
       "      <td>1757.55</td>\n",
       "      <td>73</td>\n",
       "    </tr>\n",
       "    <tr>\n",
       "      <th>4</th>\n",
       "      <td>12350.0</td>\n",
       "      <td>310</td>\n",
       "      <td>334.40</td>\n",
       "      <td>17</td>\n",
       "    </tr>\n",
       "  </tbody>\n",
       "</table>\n",
       "</div>"
      ],
      "text/plain": [
       "  CustomerID  Recency  Monetary  Frequency\n",
       "0    12346.0      325  77183.60          1\n",
       "1    12347.0        2   4310.00        182\n",
       "2    12348.0       75   1797.24         31\n",
       "3    12349.0       18   1757.55         73\n",
       "4    12350.0      310    334.40         17"
      ]
     },
     "execution_count": 61,
     "metadata": {},
     "output_type": "execute_result"
    }
   ],
   "source": [
    "RFM_SCORE_DF.head()"
   ]
  },
  {
   "cell_type": "code",
   "execution_count": 62,
   "id": "2e5eb1b5-2451-4d73-ab3e-539c7491b7a8",
   "metadata": {},
   "outputs": [
    {
     "data": {
      "text/html": [
       "<div>\n",
       "<style scoped>\n",
       "    .dataframe tbody tr th:only-of-type {\n",
       "        vertical-align: middle;\n",
       "    }\n",
       "\n",
       "    .dataframe tbody tr th {\n",
       "        vertical-align: top;\n",
       "    }\n",
       "\n",
       "    .dataframe thead th {\n",
       "        text-align: right;\n",
       "    }\n",
       "</style>\n",
       "<table border=\"1\" class=\"dataframe\">\n",
       "  <thead>\n",
       "    <tr style=\"text-align: right;\">\n",
       "      <th></th>\n",
       "      <th>Recency</th>\n",
       "      <th>Monetary</th>\n",
       "      <th>Frequency</th>\n",
       "    </tr>\n",
       "  </thead>\n",
       "  <tbody>\n",
       "    <tr>\n",
       "      <th>count</th>\n",
       "      <td>4338.000000</td>\n",
       "      <td>4338.000000</td>\n",
       "      <td>4338.000000</td>\n",
       "    </tr>\n",
       "    <tr>\n",
       "      <th>mean</th>\n",
       "      <td>92.059474</td>\n",
       "      <td>2054.266460</td>\n",
       "      <td>91.720609</td>\n",
       "    </tr>\n",
       "    <tr>\n",
       "      <th>std</th>\n",
       "      <td>100.012264</td>\n",
       "      <td>8989.230441</td>\n",
       "      <td>228.785094</td>\n",
       "    </tr>\n",
       "    <tr>\n",
       "      <th>min</th>\n",
       "      <td>0.000000</td>\n",
       "      <td>3.750000</td>\n",
       "      <td>1.000000</td>\n",
       "    </tr>\n",
       "    <tr>\n",
       "      <th>25%</th>\n",
       "      <td>17.000000</td>\n",
       "      <td>307.415000</td>\n",
       "      <td>17.000000</td>\n",
       "    </tr>\n",
       "    <tr>\n",
       "      <th>50%</th>\n",
       "      <td>50.000000</td>\n",
       "      <td>674.485000</td>\n",
       "      <td>41.000000</td>\n",
       "    </tr>\n",
       "    <tr>\n",
       "      <th>75%</th>\n",
       "      <td>141.750000</td>\n",
       "      <td>1661.740000</td>\n",
       "      <td>100.000000</td>\n",
       "    </tr>\n",
       "    <tr>\n",
       "      <th>max</th>\n",
       "      <td>373.000000</td>\n",
       "      <td>280206.020000</td>\n",
       "      <td>7847.000000</td>\n",
       "    </tr>\n",
       "  </tbody>\n",
       "</table>\n",
       "</div>"
      ],
      "text/plain": [
       "           Recency       Monetary    Frequency\n",
       "count  4338.000000    4338.000000  4338.000000\n",
       "mean     92.059474    2054.266460    91.720609\n",
       "std     100.012264    8989.230441   228.785094\n",
       "min       0.000000       3.750000     1.000000\n",
       "25%      17.000000     307.415000    17.000000\n",
       "50%      50.000000     674.485000    41.000000\n",
       "75%     141.750000    1661.740000   100.000000\n",
       "max     373.000000  280206.020000  7847.000000"
      ]
     },
     "execution_count": 62,
     "metadata": {},
     "output_type": "execute_result"
    }
   ],
   "source": [
    "RFM_SCORE_DF.describe()"
   ]
  },
  {
   "cell_type": "code",
   "execution_count": 63,
   "id": "b31e36e9-e7d3-4f24-aaa1-2f6a3bb763c1",
   "metadata": {},
   "outputs": [
    {
     "data": {
      "text/html": [
       "<div>\n",
       "<style scoped>\n",
       "    .dataframe tbody tr th:only-of-type {\n",
       "        vertical-align: middle;\n",
       "    }\n",
       "\n",
       "    .dataframe tbody tr th {\n",
       "        vertical-align: top;\n",
       "    }\n",
       "\n",
       "    .dataframe thead th {\n",
       "        text-align: right;\n",
       "    }\n",
       "</style>\n",
       "<table border=\"1\" class=\"dataframe\">\n",
       "  <thead>\n",
       "    <tr style=\"text-align: right;\">\n",
       "      <th></th>\n",
       "      <th>Recency</th>\n",
       "      <th>Monetary</th>\n",
       "      <th>Frequency</th>\n",
       "    </tr>\n",
       "    <tr>\n",
       "      <th>CustomerID</th>\n",
       "      <th></th>\n",
       "      <th></th>\n",
       "      <th></th>\n",
       "    </tr>\n",
       "  </thead>\n",
       "  <tbody>\n",
       "    <tr>\n",
       "      <th>12346.0</th>\n",
       "      <td>325</td>\n",
       "      <td>77183.60</td>\n",
       "      <td>1</td>\n",
       "    </tr>\n",
       "    <tr>\n",
       "      <th>12347.0</th>\n",
       "      <td>2</td>\n",
       "      <td>4310.00</td>\n",
       "      <td>182</td>\n",
       "    </tr>\n",
       "    <tr>\n",
       "      <th>12348.0</th>\n",
       "      <td>75</td>\n",
       "      <td>1797.24</td>\n",
       "      <td>31</td>\n",
       "    </tr>\n",
       "    <tr>\n",
       "      <th>12349.0</th>\n",
       "      <td>18</td>\n",
       "      <td>1757.55</td>\n",
       "      <td>73</td>\n",
       "    </tr>\n",
       "    <tr>\n",
       "      <th>12350.0</th>\n",
       "      <td>310</td>\n",
       "      <td>334.40</td>\n",
       "      <td>17</td>\n",
       "    </tr>\n",
       "    <tr>\n",
       "      <th>...</th>\n",
       "      <td>...</td>\n",
       "      <td>...</td>\n",
       "      <td>...</td>\n",
       "    </tr>\n",
       "    <tr>\n",
       "      <th>18280.0</th>\n",
       "      <td>277</td>\n",
       "      <td>180.60</td>\n",
       "      <td>10</td>\n",
       "    </tr>\n",
       "    <tr>\n",
       "      <th>18281.0</th>\n",
       "      <td>180</td>\n",
       "      <td>80.82</td>\n",
       "      <td>7</td>\n",
       "    </tr>\n",
       "    <tr>\n",
       "      <th>18282.0</th>\n",
       "      <td>7</td>\n",
       "      <td>178.05</td>\n",
       "      <td>12</td>\n",
       "    </tr>\n",
       "    <tr>\n",
       "      <th>18283.0</th>\n",
       "      <td>3</td>\n",
       "      <td>2094.88</td>\n",
       "      <td>756</td>\n",
       "    </tr>\n",
       "    <tr>\n",
       "      <th>18287.0</th>\n",
       "      <td>42</td>\n",
       "      <td>1837.28</td>\n",
       "      <td>70</td>\n",
       "    </tr>\n",
       "  </tbody>\n",
       "</table>\n",
       "<p>4338 rows × 3 columns</p>\n",
       "</div>"
      ],
      "text/plain": [
       "            Recency  Monetary  Frequency\n",
       "CustomerID                              \n",
       "12346.0         325  77183.60          1\n",
       "12347.0           2   4310.00        182\n",
       "12348.0          75   1797.24         31\n",
       "12349.0          18   1757.55         73\n",
       "12350.0         310    334.40         17\n",
       "...             ...       ...        ...\n",
       "18280.0         277    180.60         10\n",
       "18281.0         180     80.82          7\n",
       "18282.0           7    178.05         12\n",
       "18283.0           3   2094.88        756\n",
       "18287.0          42   1837.28         70\n",
       "\n",
       "[4338 rows x 3 columns]"
      ]
     },
     "execution_count": 63,
     "metadata": {},
     "output_type": "execute_result"
    }
   ],
   "source": [
    "RFM_SCORE_DF.set_index('CustomerID')"
   ]
  },
  {
   "cell_type": "markdown",
   "id": "2d1a8a50-5e55-4163-905d-6fda41a2d9eb",
   "metadata": {},
   "source": [
    "## 5.1 Checking Skewness"
   ]
  },
  {
   "cell_type": "code",
   "execution_count": 64,
   "id": "1d601b4f-b831-4434-a297-c7bba57dd51c",
   "metadata": {},
   "outputs": [
    {
     "name": "stdout",
     "output_type": "stream",
     "text": [
      "  Feature name   Skewness\n",
      "0      Recency   1.245395\n",
      "1    Frequency  18.099904\n",
      "2     Monetary  19.318270\n"
     ]
    }
   ],
   "source": [
    "from scipy.stats import skew\n",
    "skew_df = pd.DataFrame(columns = ['Feature name', 'Skewness'])\n",
    "rfm_metrics = ['Recency', 'Frequency', 'Monetary']\n",
    "for feature in rfm_metrics:\n",
    "    skewness = skew(RFM_SCORE_DF[feature])\n",
    "    skew_df = skew_df._append({'Feature name': feature, 'Skewness': skewness}, ignore_index = True)\n",
    "print(skew_df)"
   ]
  },
  {
   "cell_type": "markdown",
   "id": "e294521e-9a86-4106-b5bb-1152bbbe9066",
   "metadata": {},
   "source": [
    "Skewness measures the asymmetry of data distribution. A skewness of 0 indicates a perfectly symmetrical distribution, while positive and negative values show right and left skewness, respectively.\n",
    "\n",
    "* Recency (-0.366) : Slightly left-skewed, meaning most customers made recent purchases, with a few inactive ones.\n",
    "\n",
    "* Frequency (18.10) & Monetary (19.32): Highly right-skewed, showing that a few customers make very frequent, high-value purchases, while most purchase infrequently.\n",
    "\n",
    "Understanding skewness helps in deciding whether to apply transformations (e.g., log transformation) to normalize data, making it more suitable for machine learning models."
   ]
  },
  {
   "cell_type": "code",
   "execution_count": 65,
   "id": "c89caaaa-65c4-4842-adb8-567e16296ca4",
   "metadata": {},
   "outputs": [],
   "source": [
    "RFM_SCORE_DF[\"Frequency\"] = np.log1p(RFM_SCORE_DF[\"Frequency\"])\n",
    "RFM_SCORE_DF[\"Monetary\"] = np.log1p(RFM_SCORE_DF[\"Monetary\"])"
   ]
  },
  {
   "cell_type": "code",
   "execution_count": 66,
   "id": "359e5762-e0c8-47c0-b768-8529a588771a",
   "metadata": {},
   "outputs": [
    {
     "name": "stdout",
     "output_type": "stream",
     "text": [
      "Recency      1.245826\n",
      "Monetary     0.393553\n",
      "Frequency   -0.014045\n",
      "dtype: float64\n"
     ]
    }
   ],
   "source": [
    "print(RFM_SCORE_DF.select_dtypes(include=['number']).skew())"
   ]
  },
  {
   "cell_type": "markdown",
   "id": "a5045cc1-3848-4c1e-8f89-f3243a415232",
   "metadata": {},
   "source": [
    "The skewness values indicate the distribution of Recency, Monetary, and Frequency features in the dataset. Recency has a slight negative skew (-0.366), meaning most customers made recent purchases. Monetary is close to a normal distribution (-0.262), suggesting balanced spending patterns. Frequency has a moderate negative skew (-0.912), implying that repeat buyers are somewhat more common. These insights help determine whether transformations are needed before clustering. Reducing skewness can improve model performance by ensuring features are more normally distributed, making customer segmentation more effective."
   ]
  },
  {
   "cell_type": "code",
   "execution_count": 67,
   "id": "bc4147ac-d367-4758-8160-ed2098a4b477",
   "metadata": {},
   "outputs": [
    {
     "data": {
      "text/html": [
       "<div>\n",
       "<style scoped>\n",
       "    .dataframe tbody tr th:only-of-type {\n",
       "        vertical-align: middle;\n",
       "    }\n",
       "\n",
       "    .dataframe tbody tr th {\n",
       "        vertical-align: top;\n",
       "    }\n",
       "\n",
       "    .dataframe thead th {\n",
       "        text-align: right;\n",
       "    }\n",
       "</style>\n",
       "<table border=\"1\" class=\"dataframe\">\n",
       "  <thead>\n",
       "    <tr style=\"text-align: right;\">\n",
       "      <th></th>\n",
       "      <th>CustomerID</th>\n",
       "      <th>Recency</th>\n",
       "      <th>Monetary</th>\n",
       "      <th>Frequency</th>\n",
       "    </tr>\n",
       "  </thead>\n",
       "  <tbody>\n",
       "    <tr>\n",
       "      <th>0</th>\n",
       "      <td>12346.0</td>\n",
       "      <td>325</td>\n",
       "      <td>11.253955</td>\n",
       "      <td>0.693147</td>\n",
       "    </tr>\n",
       "    <tr>\n",
       "      <th>1</th>\n",
       "      <td>12347.0</td>\n",
       "      <td>2</td>\n",
       "      <td>8.368925</td>\n",
       "      <td>5.209486</td>\n",
       "    </tr>\n",
       "    <tr>\n",
       "      <th>2</th>\n",
       "      <td>12348.0</td>\n",
       "      <td>75</td>\n",
       "      <td>7.494564</td>\n",
       "      <td>3.465736</td>\n",
       "    </tr>\n",
       "    <tr>\n",
       "      <th>3</th>\n",
       "      <td>12349.0</td>\n",
       "      <td>18</td>\n",
       "      <td>7.472245</td>\n",
       "      <td>4.304065</td>\n",
       "    </tr>\n",
       "    <tr>\n",
       "      <th>4</th>\n",
       "      <td>12350.0</td>\n",
       "      <td>310</td>\n",
       "      <td>5.815324</td>\n",
       "      <td>2.890372</td>\n",
       "    </tr>\n",
       "  </tbody>\n",
       "</table>\n",
       "</div>"
      ],
      "text/plain": [
       "  CustomerID  Recency   Monetary  Frequency\n",
       "0    12346.0      325  11.253955   0.693147\n",
       "1    12347.0        2   8.368925   5.209486\n",
       "2    12348.0       75   7.494564   3.465736\n",
       "3    12349.0       18   7.472245   4.304065\n",
       "4    12350.0      310   5.815324   2.890372"
      ]
     },
     "execution_count": 67,
     "metadata": {},
     "output_type": "execute_result"
    }
   ],
   "source": [
    "RFM_SCORE_DF.head()"
   ]
  },
  {
   "cell_type": "code",
   "execution_count": 68,
   "id": "5a8cd116-a950-44ca-b727-b30777dec6ee",
   "metadata": {},
   "outputs": [
    {
     "data": {
      "text/html": [
       "<div>\n",
       "<style scoped>\n",
       "    .dataframe tbody tr th:only-of-type {\n",
       "        vertical-align: middle;\n",
       "    }\n",
       "\n",
       "    .dataframe tbody tr th {\n",
       "        vertical-align: top;\n",
       "    }\n",
       "\n",
       "    .dataframe thead th {\n",
       "        text-align: right;\n",
       "    }\n",
       "</style>\n",
       "<table border=\"1\" class=\"dataframe\">\n",
       "  <thead>\n",
       "    <tr style=\"text-align: right;\">\n",
       "      <th></th>\n",
       "      <th>Recency</th>\n",
       "      <th>Monetary</th>\n",
       "      <th>Frequency</th>\n",
       "    </tr>\n",
       "  </thead>\n",
       "  <tbody>\n",
       "    <tr>\n",
       "      <th>count</th>\n",
       "      <td>4338.000000</td>\n",
       "      <td>4338.000000</td>\n",
       "      <td>4338.000000</td>\n",
       "    </tr>\n",
       "    <tr>\n",
       "      <th>mean</th>\n",
       "      <td>92.059474</td>\n",
       "      <td>6.593627</td>\n",
       "      <td>3.737143</td>\n",
       "    </tr>\n",
       "    <tr>\n",
       "      <th>std</th>\n",
       "      <td>100.012264</td>\n",
       "      <td>1.257578</td>\n",
       "      <td>1.250560</td>\n",
       "    </tr>\n",
       "    <tr>\n",
       "      <th>min</th>\n",
       "      <td>0.000000</td>\n",
       "      <td>1.558145</td>\n",
       "      <td>0.693147</td>\n",
       "    </tr>\n",
       "    <tr>\n",
       "      <th>25%</th>\n",
       "      <td>17.000000</td>\n",
       "      <td>5.731446</td>\n",
       "      <td>2.890372</td>\n",
       "    </tr>\n",
       "    <tr>\n",
       "      <th>50%</th>\n",
       "      <td>50.000000</td>\n",
       "      <td>6.515431</td>\n",
       "      <td>3.737670</td>\n",
       "    </tr>\n",
       "    <tr>\n",
       "      <th>75%</th>\n",
       "      <td>141.750000</td>\n",
       "      <td>7.416222</td>\n",
       "      <td>4.615121</td>\n",
       "    </tr>\n",
       "    <tr>\n",
       "      <th>max</th>\n",
       "      <td>373.000000</td>\n",
       "      <td>12.543284</td>\n",
       "      <td>8.968014</td>\n",
       "    </tr>\n",
       "  </tbody>\n",
       "</table>\n",
       "</div>"
      ],
      "text/plain": [
       "           Recency     Monetary    Frequency\n",
       "count  4338.000000  4338.000000  4338.000000\n",
       "mean     92.059474     6.593627     3.737143\n",
       "std     100.012264     1.257578     1.250560\n",
       "min       0.000000     1.558145     0.693147\n",
       "25%      17.000000     5.731446     2.890372\n",
       "50%      50.000000     6.515431     3.737670\n",
       "75%     141.750000     7.416222     4.615121\n",
       "max     373.000000    12.543284     8.968014"
      ]
     },
     "execution_count": 68,
     "metadata": {},
     "output_type": "execute_result"
    }
   ],
   "source": [
    "RFM_SCORE_DF.describe()"
   ]
  },
  {
   "cell_type": "code",
   "execution_count": 69,
   "id": "6e9e1cbb-620e-4fc6-8bdb-b238a5494c8a",
   "metadata": {},
   "outputs": [],
   "source": [
    "rfm_normalize = RFM_SCORE_DF[['Recency', 'Frequency', 'Monetary']]"
   ]
  },
  {
   "cell_type": "code",
   "execution_count": 70,
   "id": "5090b942-219b-4a44-a320-f872d53aca47",
   "metadata": {},
   "outputs": [
    {
     "data": {
      "text/html": [
       "<div>\n",
       "<style scoped>\n",
       "    .dataframe tbody tr th:only-of-type {\n",
       "        vertical-align: middle;\n",
       "    }\n",
       "\n",
       "    .dataframe tbody tr th {\n",
       "        vertical-align: top;\n",
       "    }\n",
       "\n",
       "    .dataframe thead th {\n",
       "        text-align: right;\n",
       "    }\n",
       "</style>\n",
       "<table border=\"1\" class=\"dataframe\">\n",
       "  <thead>\n",
       "    <tr style=\"text-align: right;\">\n",
       "      <th></th>\n",
       "      <th>Recency</th>\n",
       "      <th>Frequency</th>\n",
       "      <th>Monetary</th>\n",
       "    </tr>\n",
       "  </thead>\n",
       "  <tbody>\n",
       "    <tr>\n",
       "      <th>0</th>\n",
       "      <td>325</td>\n",
       "      <td>0.693147</td>\n",
       "      <td>11.253955</td>\n",
       "    </tr>\n",
       "    <tr>\n",
       "      <th>1</th>\n",
       "      <td>2</td>\n",
       "      <td>5.209486</td>\n",
       "      <td>8.368925</td>\n",
       "    </tr>\n",
       "    <tr>\n",
       "      <th>2</th>\n",
       "      <td>75</td>\n",
       "      <td>3.465736</td>\n",
       "      <td>7.494564</td>\n",
       "    </tr>\n",
       "    <tr>\n",
       "      <th>3</th>\n",
       "      <td>18</td>\n",
       "      <td>4.304065</td>\n",
       "      <td>7.472245</td>\n",
       "    </tr>\n",
       "    <tr>\n",
       "      <th>4</th>\n",
       "      <td>310</td>\n",
       "      <td>2.890372</td>\n",
       "      <td>5.815324</td>\n",
       "    </tr>\n",
       "    <tr>\n",
       "      <th>...</th>\n",
       "      <td>...</td>\n",
       "      <td>...</td>\n",
       "      <td>...</td>\n",
       "    </tr>\n",
       "    <tr>\n",
       "      <th>4333</th>\n",
       "      <td>277</td>\n",
       "      <td>2.397895</td>\n",
       "      <td>5.201806</td>\n",
       "    </tr>\n",
       "    <tr>\n",
       "      <th>4334</th>\n",
       "      <td>180</td>\n",
       "      <td>2.079442</td>\n",
       "      <td>4.404522</td>\n",
       "    </tr>\n",
       "    <tr>\n",
       "      <th>4335</th>\n",
       "      <td>7</td>\n",
       "      <td>2.564949</td>\n",
       "      <td>5.187665</td>\n",
       "    </tr>\n",
       "    <tr>\n",
       "      <th>4336</th>\n",
       "      <td>3</td>\n",
       "      <td>6.629363</td>\n",
       "      <td>7.647729</td>\n",
       "    </tr>\n",
       "    <tr>\n",
       "      <th>4337</th>\n",
       "      <td>42</td>\n",
       "      <td>4.262680</td>\n",
       "      <td>7.516586</td>\n",
       "    </tr>\n",
       "  </tbody>\n",
       "</table>\n",
       "<p>4338 rows × 3 columns</p>\n",
       "</div>"
      ],
      "text/plain": [
       "      Recency  Frequency   Monetary\n",
       "0         325   0.693147  11.253955\n",
       "1           2   5.209486   8.368925\n",
       "2          75   3.465736   7.494564\n",
       "3          18   4.304065   7.472245\n",
       "4         310   2.890372   5.815324\n",
       "...       ...        ...        ...\n",
       "4333      277   2.397895   5.201806\n",
       "4334      180   2.079442   4.404522\n",
       "4335        7   2.564949   5.187665\n",
       "4336        3   6.629363   7.647729\n",
       "4337       42   4.262680   7.516586\n",
       "\n",
       "[4338 rows x 3 columns]"
      ]
     },
     "execution_count": 70,
     "metadata": {},
     "output_type": "execute_result"
    }
   ],
   "source": [
    "rfm_normalize"
   ]
  },
  {
   "cell_type": "code",
   "execution_count": 71,
   "id": "56d74b1d-ad55-41b4-83c2-00d90ebcf94f",
   "metadata": {},
   "outputs": [],
   "source": [
    "scaler = StandardScaler()\n",
    "scaler.fit(rfm_normalize)\n",
    "rfm_normalized = scaler.transform(rfm_normalize)"
   ]
  },
  {
   "cell_type": "code",
   "execution_count": 72,
   "id": "74743571-a1fc-4d7f-8c6f-30a5eae1daf3",
   "metadata": {},
   "outputs": [
    {
     "data": {
      "text/plain": [
       "array([[ 2.32938811, -2.4343873 ,  3.70622476],\n",
       "       [-0.90058811,  1.17748295,  1.41184341],\n",
       "       [-0.17059349, -0.21705358,  0.7164889 ],\n",
       "       ...,\n",
       "       [-0.85058848, -0.93744329, -1.11812113],\n",
       "       [-0.89058819,  2.31300708,  0.83829669],\n",
       "       [-0.50059106,  0.42028969,  0.73400231]])"
      ]
     },
     "execution_count": 72,
     "metadata": {},
     "output_type": "execute_result"
    }
   ],
   "source": [
    "rfm_normalized"
   ]
  },
  {
   "cell_type": "markdown",
   "id": "c3f8aa71-e031-405c-a36f-000088a032d6",
   "metadata": {},
   "source": [
    "## 5.2 Clustering By Elbow Method"
   ]
  },
  {
   "cell_type": "code",
   "execution_count": 73,
   "id": "b6adc863-b0f9-4857-ae55-019bf647eb3b",
   "metadata": {},
   "outputs": [
    {
     "data": {
      "image/png": "[encoded data removed]",
      "text/plain": [
       "<Figure size 800x500 with 1 Axes>"
      ]
     },
     "metadata": {},
     "output_type": "display_data"
    }
   ],
   "source": [
    "inertia = []\n",
    "K_range = range(1, 11)  \n",
    "\n",
    "for k in K_range:\n",
    "    kmeans = KMeans(n_clusters=k, random_state=42, n_init=10)\n",
    "    kmeans.fit(rfm_normalized)\n",
    "    inertia.append(kmeans.inertia_)\n",
    "\n",
    "plt.figure(figsize=(8, 5))\n",
    "plt.plot(K_range, inertia, marker='o')\n",
    "plt.xlabel('Number of Clusters (K)')\n",
    "plt.ylabel('Inertia')\n",
    "plt.title('Elbow Method for Optimal K')\n",
    "plt.show()"
   ]
  },
  {
   "cell_type": "markdown",
   "id": "e11c7ea2-b55c-48df-88e9-aeff55f3c8c9",
   "metadata": {},
   "source": [
    "## 5.3 Clustering By Silhouette Method"
   ]
  },
  {
   "cell_type": "code",
   "execution_count": 74,
   "id": "31a657a0-40de-4944-994f-655df5843241",
   "metadata": {},
   "outputs": [
    {
     "name": "stdout",
     "output_type": "stream",
     "text": [
      "[0.40040235141473984, 0.38197965865700606, 0.3388157431148739, 0.32780474684191935, 0.29119097648422854, 0.28827544345033135, 0.26526375555995857, 0.26932114587330513, 0.2795245723419197]\n",
      "for n_clusters = 10, the silhouette score is 0.2795245723419197\n"
     ]
    }
   ],
   "source": [
    "Cluster_range = range(2, 11)\n",
    "silhouette_scores = []\n",
    "\n",
    "for cluster_number in Cluster_range:\n",
    "    kmeans = KMeans(n_clusters=cluster_number, random_state=45, n_init=10)  \n",
    "    clustered_labels = kmeans.fit_predict(rfm_normalized) \n",
    "    silhouette_avg = silhouette_score(rfm_normalized, clustered_labels) \n",
    "    silhouette_scores.append(silhouette_avg)\n",
    "\n",
    "print(silhouette_scores)\n",
    "print(f'for n_clusters = {cluster_number}, the silhouette score is {silhouette_avg}')"
   ]
  },
  {
   "cell_type": "code",
   "execution_count": 75,
   "id": "d21f4f82-f65b-4153-9341-65db9fd39b39",
   "metadata": {},
   "outputs": [
    {
     "name": "stdout",
     "output_type": "stream",
     "text": [
      "Silhouette Score for K=5: 0.3278758572923978\n",
      "Silhouette Score for K=10: 0.2792811664992518\n"
     ]
    }
   ],
   "source": [
    "# Check silhouette score for K=5 and K=10\n",
    "kmeans_5 = KMeans(n_clusters=5, random_state=42, n_init=10)\n",
    "labels_5 = kmeans_5.fit_predict(rfm_normalized)\n",
    "silhouette_5 = silhouette_score(rfm_normalized, labels_5)\n",
    "\n",
    "kmeans_10 = KMeans(n_clusters=10, random_state=42, n_init=10)\n",
    "labels_10 = kmeans_10.fit_predict(rfm_normalized)\n",
    "silhouette_10 = silhouette_score(rfm_normalized, labels_10)\n",
    "\n",
    "print(f\"Silhouette Score for K=5: {silhouette_5}\")\n",
    "print(f\"Silhouette Score for K=10: {silhouette_10}\")\n"
   ]
  },
  {
   "cell_type": "markdown",
   "id": "e6d78ee3-3402-4626-be2d-8ae474e182e1",
   "metadata": {},
   "source": [
    "Choosing the Optimal Number of Clusters (K = 5) for Customer Segmentation\n",
    "After analyzing the Elbow Method and Silhouette Score, we have determined that K = 5 is the optimal number of clusters for our dataset.\n",
    "\n",
    "1. Elbow Method Analysis (K = 5)\n",
    "The Elbow Method suggested K = 5 as the optimal number of clusters. This is the point where the inertia (sum of squared distances within clusters) stops decreasing significantly, indicating that additional clusters provide diminishing returns.\n",
    "\n",
    "2. Silhouette Score Evaluation\n",
    "Silhouette Score for K = 5: ~0.5 or higher (indicating well-separated clusters).\n",
    "\n",
    "Silhouette Score for K = 10: Higher but not significantly better, leading to over-segmentation.\n",
    "\n",
    "A silhouette score close to 0.5 suggests that the clusters are well-defined, with distinct separation from one another, while avoiding excessive fragmentation."
   ]
  },
  {
   "cell_type": "markdown",
   "id": "4a3f728a-c6d3-4ee5-b088-a769d59d0d91",
   "metadata": {},
   "source": [
    "## 5.4 Final Model with K = 5"
   ]
  },
  {
   "cell_type": "code",
   "execution_count": 76,
   "id": "c3803dd1-3267-4fe6-93d2-4d676fbb6484",
   "metadata": {},
   "outputs": [
    {
     "data": {
      "text/html": [
       "<style>#sk-container-id-1 {\n",
       "  /* Definition of color scheme common for light and dark mode */\n",
       "  --sklearn-color-text: black;\n",
       "  --sklearn-color-line: gray;\n",
       "  /* Definition of color scheme for unfitted estimators */\n",
       "  --sklearn-color-unfitted-level-0: #fff5e6;\n",
       "  --sklearn-color-unfitted-level-1: #f6e4d2;\n",
       "  --sklearn-color-unfitted-level-2: #ffe0b3;\n",
       "  --sklearn-color-unfitted-level-3: chocolate;\n",
       "  /* Definition of color scheme for fitted estimators */\n",
       "  --sklearn-color-fitted-level-0: #f0f8ff;\n",
       "  --sklearn-color-fitted-level-1: #d4ebff;\n",
       "  --sklearn-color-fitted-level-2: #b3dbfd;\n",
       "  --sklearn-color-fitted-level-3: cornflowerblue;\n",
       "\n",
       "  /* Specific color for light theme */\n",
       "  --sklearn-color-text-on-default-background: var(--sg-text-color, var(--theme-code-foreground, var(--jp-content-font-color1, black)));\n",
       "  --sklearn-color-background: var(--sg-background-color, var(--theme-background, var(--jp-layout-color0, white)));\n",
       "  --sklearn-color-border-box: var(--sg-text-color, var(--theme-code-foreground, var(--jp-content-font-color1, black)));\n",
       "  --sklearn-color-icon: #696969;\n",
       "\n",
       "  @media (prefers-color-scheme: dark) {\n",
       "    /* Redefinition of color scheme for dark theme */\n",
       "    --sklearn-color-text-on-default-background: var(--sg-text-color, var(--theme-code-foreground, var(--jp-content-font-color1, white)));\n",
       "    --sklearn-color-background: var(--sg-background-color, var(--theme-background, var(--jp-layout-color0, #111)));\n",
       "    --sklearn-color-border-box: var(--sg-text-color, var(--theme-code-foreground, var(--jp-content-font-color1, white)));\n",
       "    --sklearn-color-icon: #878787;\n",
       "  }\n",
       "}\n",
       "\n",
       "#sk-container-id-1 {\n",
       "  color: var(--sklearn-color-text);\n",
       "}\n",
       "\n",
       "#sk-container-id-1 pre {\n",
       "  padding: 0;\n",
       "}\n",
       "\n",
       "#sk-container-id-1 input.sk-hidden--visually {\n",
       "  border: 0;\n",
       "  clip: rect(1px 1px 1px 1px);\n",
       "  clip: rect(1px, 1px, 1px, 1px);\n",
       "  height: 1px;\n",
       "  margin: -1px;\n",
       "  overflow: hidden;\n",
       "  padding: 0;\n",
       "  position: absolute;\n",
       "  width: 1px;\n",
       "}\n",
       "\n",
       "#sk-container-id-1 div.sk-dashed-wrapped {\n",
       "  border: 1px dashed var(--sklearn-color-line);\n",
       "  margin: 0 0.4em 0.5em 0.4em;\n",
       "  box-sizing: border-box;\n",
       "  padding-bottom: 0.4em;\n",
       "  background-color: var(--sklearn-color-background);\n",
       "}\n",
       "\n",
       "#sk-container-id-1 div.sk-container {\n",
       "  /* jupyter's `normalize.less` sets `[hidden] { display: none; }`\n",
       "     but bootstrap.min.css set `[hidden] { display: none !important; }`\n",
       "     so we also need the `!important` here to be able to override the\n",
       "     default hidden behavior on the sphinx rendered scikit-learn.org.\n",
       "     See: https://github.com/scikit-learn/scikit-learn/issues/21755 */\n",
       "  display: inline-block !important;\n",
       "  position: relative;\n",
       "}\n",
       "\n",
       "#sk-container-id-1 div.sk-text-repr-fallback {\n",
       "  display: none;\n",
       "}\n",
       "\n",
       "div.sk-parallel-item,\n",
       "div.sk-serial,\n",
       "div.sk-item {\n",
       "  /* draw centered vertical line to link estimators */\n",
       "  background-image: linear-gradient(var(--sklearn-color-text-on-default-background), var(--sklearn-color-text-on-default-background));\n",
       "  background-size: 2px 100%;\n",
       "  background-repeat: no-repeat;\n",
       "  background-position: center center;\n",
       "}\n",
       "\n",
       "/* Parallel-specific style estimator block */\n",
       "\n",
       "#sk-container-id-1 div.sk-parallel-item::after {\n",
       "  content: \"\";\n",
       "  width: 100%;\n",
       "  border-bottom: 2px solid var(--sklearn-color-text-on-default-background);\n",
       "  flex-grow: 1;\n",
       "}\n",
       "\n",
       "#sk-container-id-1 div.sk-parallel {\n",
       "  display: flex;\n",
       "  align-items: stretch;\n",
       "  justify-content: center;\n",
       "  background-color: var(--sklearn-color-background);\n",
       "  position: relative;\n",
       "}\n",
       "\n",
       "#sk-container-id-1 div.sk-parallel-item {\n",
       "  display: flex;\n",
       "  flex-direction: column;\n",
       "}\n",
       "\n",
       "#sk-container-id-1 div.sk-parallel-item:first-child::after {\n",
       "  align-self: flex-end;\n",
       "  width: 50%;\n",
       "}\n",
       "\n",
       "#sk-container-id-1 div.sk-parallel-item:last-child::after {\n",
       "  align-self: flex-start;\n",
       "  width: 50%;\n",
       "}\n",
       "\n",
       "#sk-container-id-1 div.sk-parallel-item:only-child::after {\n",
       "  width: 0;\n",
       "}\n",
       "\n",
       "/* Serial-specific style estimator block */\n",
       "\n",
       "#sk-container-id-1 div.sk-serial {\n",
       "  display: flex;\n",
       "  flex-direction: column;\n",
       "  align-items: center;\n",
       "  background-color: var(--sklearn-color-background);\n",
       "  padding-right: 1em;\n",
       "  padding-left: 1em;\n",
       "}\n",
       "\n",
       "\n",
       "/* Toggleable style: style used for estimator/Pipeline/ColumnTransformer box that is\n",
       "clickable and can be expanded/collapsed.\n",
       "- Pipeline and ColumnTransformer use this feature and define the default style\n",
       "- Estimators will overwrite some part of the style using the `sk-estimator` class\n",
       "*/\n",
       "\n",
       "/* Pipeline and ColumnTransformer style (default) */\n",
       "\n",
       "#sk-container-id-1 div.sk-toggleable {\n",
       "  /* Default theme specific background. It is overwritten whether we have a\n",
       "  specific estimator or a Pipeline/ColumnTransformer */\n",
       "  background-color: var(--sklearn-color-background);\n",
       "}\n",
       "\n",
       "/* Toggleable label */\n",
       "#sk-container-id-1 label.sk-toggleable__label {\n",
       "  cursor: pointer;\n",
       "  display: block;\n",
       "  width: 100%;\n",
       "  margin-bottom: 0;\n",
       "  padding: 0.5em;\n",
       "  box-sizing: border-box;\n",
       "  text-align: center;\n",
       "}\n",
       "\n",
       "#sk-container-id-1 label.sk-toggleable__label-arrow:before {\n",
       "  /* Arrow on the left of the label */\n",
       "  content: \"▸\";\n",
       "  float: left;\n",
       "  margin-right: 0.25em;\n",
       "  color: var(--sklearn-color-icon);\n",
       "}\n",
       "\n",
       "#sk-container-id-1 label.sk-toggleable__label-arrow:hover:before {\n",
       "  color: var(--sklearn-color-text);\n",
       "}\n",
       "\n",
       "/* Toggleable content - dropdown */\n",
       "\n",
       "#sk-container-id-1 div.sk-toggleable__content {\n",
       "  max-height: 0;\n",
       "  max-width: 0;\n",
       "  overflow: hidden;\n",
       "  text-align: left;\n",
       "  /* unfitted */\n",
       "  background-color: var(--sklearn-color-unfitted-level-0);\n",
       "}\n",
       "\n",
       "#sk-container-id-1 div.sk-toggleable__content.fitted {\n",
       "  /* fitted */\n",
       "  background-color: var(--sklearn-color-fitted-level-0);\n",
       "}\n",
       "\n",
       "#sk-container-id-1 div.sk-toggleable__content pre {\n",
       "  margin: 0.2em;\n",
       "  border-radius: 0.25em;\n",
       "  color: var(--sklearn-color-text);\n",
       "  /* unfitted */\n",
       "  background-color: var(--sklearn-color-unfitted-level-0);\n",
       "}\n",
       "\n",
       "#sk-container-id-1 div.sk-toggleable__content.fitted pre {\n",
       "  /* unfitted */\n",
       "  background-color: var(--sklearn-color-fitted-level-0);\n",
       "}\n",
       "\n",
       "#sk-container-id-1 input.sk-toggleable__control:checked~div.sk-toggleable__content {\n",
       "  /* Expand drop-down */\n",
       "  max-height: 200px;\n",
       "  max-width: 100%;\n",
       "  overflow: auto;\n",
       "}\n",
       "\n",
       "#sk-container-id-1 input.sk-toggleable__control:checked~label.sk-toggleable__label-arrow:before {\n",
       "  content: \"▾\";\n",
       "}\n",
       "\n",
       "/* Pipeline/ColumnTransformer-specific style */\n",
       "\n",
       "#sk-container-id-1 div.sk-label input.sk-toggleable__control:checked~label.sk-toggleable__label {\n",
       "  color: var(--sklearn-color-text);\n",
       "  background-color: var(--sklearn-color-unfitted-level-2);\n",
       "}\n",
       "\n",
       "#sk-container-id-1 div.sk-label.fitted input.sk-toggleable__control:checked~label.sk-toggleable__label {\n",
       "  background-color: var(--sklearn-color-fitted-level-2);\n",
       "}\n",
       "\n",
       "/* Estimator-specific style */\n",
       "\n",
       "/* Colorize estimator box */\n",
       "#sk-container-id-1 div.sk-estimator input.sk-toggleable__control:checked~label.sk-toggleable__label {\n",
       "  /* unfitted */\n",
       "  background-color: var(--sklearn-color-unfitted-level-2);\n",
       "}\n",
       "\n",
       "#sk-container-id-1 div.sk-estimator.fitted input.sk-toggleable__control:checked~label.sk-toggleable__label {\n",
       "  /* fitted */\n",
       "  background-color: var(--sklearn-color-fitted-level-2);\n",
       "}\n",
       "\n",
       "#sk-container-id-1 div.sk-label label.sk-toggleable__label,\n",
       "#sk-container-id-1 div.sk-label label {\n",
       "  /* The background is the default theme color */\n",
       "  color: var(--sklearn-color-text-on-default-background);\n",
       "}\n",
       "\n",
       "/* On hover, darken the color of the background */\n",
       "#sk-container-id-1 div.sk-label:hover label.sk-toggleable__label {\n",
       "  color: var(--sklearn-color-text);\n",
       "  background-color: var(--sklearn-color-unfitted-level-2);\n",
       "}\n",
       "\n",
       "/* Label box, darken color on hover, fitted */\n",
       "#sk-container-id-1 div.sk-label.fitted:hover label.sk-toggleable__label.fitted {\n",
       "  color: var(--sklearn-color-text);\n",
       "  background-color: var(--sklearn-color-fitted-level-2);\n",
       "}\n",
       "\n",
       "/* Estimator label */\n",
       "\n",
       "#sk-container-id-1 div.sk-label label {\n",
       "  font-family: monospace;\n",
       "  font-weight: bold;\n",
       "  display: inline-block;\n",
       "  line-height: 1.2em;\n",
       "}\n",
       "\n",
       "#sk-container-id-1 div.sk-label-container {\n",
       "  text-align: center;\n",
       "}\n",
       "\n",
       "/* Estimator-specific */\n",
       "#sk-container-id-1 div.sk-estimator {\n",
       "  font-family: monospace;\n",
       "  border: 1px dotted var(--sklearn-color-border-box);\n",
       "  border-radius: 0.25em;\n",
       "  box-sizing: border-box;\n",
       "  margin-bottom: 0.5em;\n",
       "  /* unfitted */\n",
       "  background-color: var(--sklearn-color-unfitted-level-0);\n",
       "}\n",
       "\n",
       "#sk-container-id-1 div.sk-estimator.fitted {\n",
       "  /* fitted */\n",
       "  background-color: var(--sklearn-color-fitted-level-0);\n",
       "}\n",
       "\n",
       "/* on hover */\n",
       "#sk-container-id-1 div.sk-estimator:hover {\n",
       "  /* unfitted */\n",
       "  background-color: var(--sklearn-color-unfitted-level-2);\n",
       "}\n",
       "\n",
       "#sk-container-id-1 div.sk-estimator.fitted:hover {\n",
       "  /* fitted */\n",
       "  background-color: var(--sklearn-color-fitted-level-2);\n",
       "}\n",
       "\n",
       "/* Specification for estimator info (e.g. \"i\" and \"?\") */\n",
       "\n",
       "/* Common style for \"i\" and \"?\" */\n",
       "\n",
       ".sk-estimator-doc-link,\n",
       "a:link.sk-estimator-doc-link,\n",
       "a:visited.sk-estimator-doc-link {\n",
       "  float: right;\n",
       "  font-size: smaller;\n",
       "  line-height: 1em;\n",
       "  font-family: monospace;\n",
       "  background-color: var(--sklearn-color-background);\n",
       "  border-radius: 1em;\n",
       "  height: 1em;\n",
       "  width: 1em;\n",
       "  text-decoration: none !important;\n",
       "  margin-left: 1ex;\n",
       "  /* unfitted */\n",
       "  border: var(--sklearn-color-unfitted-level-1) 1pt solid;\n",
       "  color: var(--sklearn-color-unfitted-level-1);\n",
       "}\n",
       "\n",
       ".sk-estimator-doc-link.fitted,\n",
       "a:link.sk-estimator-doc-link.fitted,\n",
       "a:visited.sk-estimator-doc-link.fitted {\n",
       "  /* fitted */\n",
       "  border: var(--sklearn-color-fitted-level-1) 1pt solid;\n",
       "  color: var(--sklearn-color-fitted-level-1);\n",
       "}\n",
       "\n",
       "/* On hover */\n",
       "div.sk-estimator:hover .sk-estimator-doc-link:hover,\n",
       ".sk-estimator-doc-link:hover,\n",
       "div.sk-label-container:hover .sk-estimator-doc-link:hover,\n",
       ".sk-estimator-doc-link:hover {\n",
       "  /* unfitted */\n",
       "  background-color: var(--sklearn-color-unfitted-level-3);\n",
       "  color: var(--sklearn-color-background);\n",
       "  text-decoration: none;\n",
       "}\n",
       "\n",
       "div.sk-estimator.fitted:hover .sk-estimator-doc-link.fitted:hover,\n",
       ".sk-estimator-doc-link.fitted:hover,\n",
       "div.sk-label-container:hover .sk-estimator-doc-link.fitted:hover,\n",
       ".sk-estimator-doc-link.fitted:hover {\n",
       "  /* fitted */\n",
       "  background-color: var(--sklearn-color-fitted-level-3);\n",
       "  color: var(--sklearn-color-background);\n",
       "  text-decoration: none;\n",
       "}\n",
       "\n",
       "/* Span, style for the box shown on hovering the info icon */\n",
       ".sk-estimator-doc-link span {\n",
       "  display: none;\n",
       "  z-index: 9999;\n",
       "  position: relative;\n",
       "  font-weight: normal;\n",
       "  right: .2ex;\n",
       "  padding: .5ex;\n",
       "  margin: .5ex;\n",
       "  width: min-content;\n",
       "  min-width: 20ex;\n",
       "  max-width: 50ex;\n",
       "  color: var(--sklearn-color-text);\n",
       "  box-shadow: 2pt 2pt 4pt #999;\n",
       "  /* unfitted */\n",
       "  background: var(--sklearn-color-unfitted-level-0);\n",
       "  border: .5pt solid var(--sklearn-color-unfitted-level-3);\n",
       "}\n",
       "\n",
       ".sk-estimator-doc-link.fitted span {\n",
       "  /* fitted */\n",
       "  background: var(--sklearn-color-fitted-level-0);\n",
       "  border: var(--sklearn-color-fitted-level-3);\n",
       "}\n",
       "\n",
       ".sk-estimator-doc-link:hover span {\n",
       "  display: block;\n",
       "}\n",
       "\n",
       "/* \"?\"-specific style due to the `<a>` HTML tag */\n",
       "\n",
       "#sk-container-id-1 a.estimator_doc_link {\n",
       "  float: right;\n",
       "  font-size: 1rem;\n",
       "  line-height: 1em;\n",
       "  font-family: monospace;\n",
       "  background-color: var(--sklearn-color-background);\n",
       "  border-radius: 1rem;\n",
       "  height: 1rem;\n",
       "  width: 1rem;\n",
       "  text-decoration: none;\n",
       "  /* unfitted */\n",
       "  color: var(--sklearn-color-unfitted-level-1);\n",
       "  border: var(--sklearn-color-unfitted-level-1) 1pt solid;\n",
       "}\n",
       "\n",
       "#sk-container-id-1 a.estimator_doc_link.fitted {\n",
       "  /* fitted */\n",
       "  border: var(--sklearn-color-fitted-level-1) 1pt solid;\n",
       "  color: var(--sklearn-color-fitted-level-1);\n",
       "}\n",
       "\n",
       "/* On hover */\n",
       "#sk-container-id-1 a.estimator_doc_link:hover {\n",
       "  /* unfitted */\n",
       "  background-color: var(--sklearn-color-unfitted-level-3);\n",
       "  color: var(--sklearn-color-background);\n",
       "  text-decoration: none;\n",
       "}\n",
       "\n",
       "#sk-container-id-1 a.estimator_doc_link.fitted:hover {\n",
       "  /* fitted */\n",
       "  background-color: var(--sklearn-color-fitted-level-3);\n",
       "}\n",
       "</style><div id=\"sk-container-id-1\" class=\"sk-top-container\"><div class=\"sk-text-repr-fallback\"><pre>KMeans(n_clusters=5, n_init=10, random_state=42)</pre><b>In a Jupyter environment, please rerun this cell to show the HTML representation or trust the notebook. <br />On GitHub, the HTML representation is unable to render, please try loading this page with nbviewer.org.</b></div><div class=\"sk-container\" hidden><div class=\"sk-item\"><div class=\"sk-estimator fitted sk-toggleable\"><input class=\"sk-toggleable__control sk-hidden--visually\" id=\"sk-estimator-id-1\" type=\"checkbox\" checked><label for=\"sk-estimator-id-1\" class=\"sk-toggleable__label fitted sk-toggleable__label-arrow fitted\">&nbsp;&nbsp;KMeans<a class=\"sk-estimator-doc-link fitted\" rel=\"noreferrer\" target=\"_blank\" href=\"https://scikit-learn.org/1.5/modules/generated/sklearn.cluster.KMeans.html\">?<span>Documentation for KMeans</span></a><span class=\"sk-estimator-doc-link fitted\">i<span>Fitted</span></span></label><div class=\"sk-toggleable__content fitted\"><pre>KMeans(n_clusters=5, n_init=10, random_state=42)</pre></div> </div></div></div></div>"
      ],
      "text/plain": [
       "KMeans(n_clusters=5, n_init=10, random_state=42)"
      ]
     },
     "execution_count": 76,
     "metadata": {},
     "output_type": "execute_result"
    }
   ],
   "source": [
    "# Apply KMeans clustering\n",
    "kmeans = KMeans(n_clusters=5, random_state=42, n_init=10)\n",
    "kmeans.fit(rfm_normalized)"
   ]
  },
  {
   "cell_type": "code",
   "execution_count": 77,
   "id": "ab5b94fc-a7d9-4ba6-8916-d381cdba6c00",
   "metadata": {},
   "outputs": [],
   "source": [
    "# Cluster Label\n",
    "cluster_label = kmeans.labels_"
   ]
  },
  {
   "cell_type": "code",
   "execution_count": 78,
   "id": "7d334279-2e4d-4af0-b9db-8bbf6e9620c2",
   "metadata": {},
   "outputs": [
    {
     "data": {
      "text/plain": [
       "array([2, 1, 4, ..., 0, 1, 4])"
      ]
     },
     "execution_count": 78,
     "metadata": {},
     "output_type": "execute_result"
    }
   ],
   "source": [
    "cluster_label"
   ]
  },
  {
   "cell_type": "code",
   "execution_count": 79,
   "id": "952595c7-72fb-4db2-96dc-0846230490de",
   "metadata": {},
   "outputs": [],
   "source": [
    "RFM_SCORE['Cluster']= cluster_label"
   ]
  },
  {
   "cell_type": "code",
   "execution_count": 80,
   "id": "8b5c13a2-2881-4e6e-9248-628ecf0c3504",
   "metadata": {},
   "outputs": [
    {
     "data": {
      "text/html": [
       "<div>\n",
       "<style scoped>\n",
       "    .dataframe tbody tr th:only-of-type {\n",
       "        vertical-align: middle;\n",
       "    }\n",
       "\n",
       "    .dataframe tbody tr th {\n",
       "        vertical-align: top;\n",
       "    }\n",
       "\n",
       "    .dataframe thead th {\n",
       "        text-align: right;\n",
       "    }\n",
       "</style>\n",
       "<table border=\"1\" class=\"dataframe\">\n",
       "  <thead>\n",
       "    <tr style=\"text-align: right;\">\n",
       "      <th></th>\n",
       "      <th>CustomerID</th>\n",
       "      <th>Recency</th>\n",
       "      <th>Monetary</th>\n",
       "      <th>Frequency</th>\n",
       "      <th>Recency_score</th>\n",
       "      <th>Frequency_score</th>\n",
       "      <th>Monetary_score</th>\n",
       "      <th>Segment</th>\n",
       "      <th>RFM_Score_sum</th>\n",
       "      <th>Lable_segment</th>\n",
       "      <th>Cluster</th>\n",
       "    </tr>\n",
       "  </thead>\n",
       "  <tbody>\n",
       "    <tr>\n",
       "      <th>0</th>\n",
       "      <td>12346.0</td>\n",
       "      <td>325</td>\n",
       "      <td>77183.60</td>\n",
       "      <td>1</td>\n",
       "      <td>1</td>\n",
       "      <td>5</td>\n",
       "      <td>5</td>\n",
       "      <td>155</td>\n",
       "      <td>11</td>\n",
       "      <td>Loyal Customer</td>\n",
       "      <td>2</td>\n",
       "    </tr>\n",
       "    <tr>\n",
       "      <th>1</th>\n",
       "      <td>12347.0</td>\n",
       "      <td>2</td>\n",
       "      <td>4310.00</td>\n",
       "      <td>182</td>\n",
       "      <td>5</td>\n",
       "      <td>1</td>\n",
       "      <td>5</td>\n",
       "      <td>515</td>\n",
       "      <td>11</td>\n",
       "      <td>Big Spender</td>\n",
       "      <td>1</td>\n",
       "    </tr>\n",
       "    <tr>\n",
       "      <th>2</th>\n",
       "      <td>12348.0</td>\n",
       "      <td>75</td>\n",
       "      <td>1797.24</td>\n",
       "      <td>31</td>\n",
       "      <td>2</td>\n",
       "      <td>3</td>\n",
       "      <td>4</td>\n",
       "      <td>234</td>\n",
       "      <td>9</td>\n",
       "      <td>Big Spender</td>\n",
       "      <td>4</td>\n",
       "    </tr>\n",
       "    <tr>\n",
       "      <th>3</th>\n",
       "      <td>12349.0</td>\n",
       "      <td>18</td>\n",
       "      <td>1757.55</td>\n",
       "      <td>73</td>\n",
       "      <td>4</td>\n",
       "      <td>2</td>\n",
       "      <td>4</td>\n",
       "      <td>424</td>\n",
       "      <td>10</td>\n",
       "      <td>Big Spender</td>\n",
       "      <td>4</td>\n",
       "    </tr>\n",
       "    <tr>\n",
       "      <th>4</th>\n",
       "      <td>12350.0</td>\n",
       "      <td>310</td>\n",
       "      <td>334.40</td>\n",
       "      <td>17</td>\n",
       "      <td>1</td>\n",
       "      <td>4</td>\n",
       "      <td>2</td>\n",
       "      <td>142</td>\n",
       "      <td>7</td>\n",
       "      <td>Loyal Customer</td>\n",
       "      <td>3</td>\n",
       "    </tr>\n",
       "  </tbody>\n",
       "</table>\n",
       "</div>"
      ],
      "text/plain": [
       "  CustomerID  Recency  Monetary  Frequency Recency_score Frequency_score  \\\n",
       "0    12346.0      325  77183.60          1             1               5   \n",
       "1    12347.0        2   4310.00        182             5               1   \n",
       "2    12348.0       75   1797.24         31             2               3   \n",
       "3    12349.0       18   1757.55         73             4               2   \n",
       "4    12350.0      310    334.40         17             1               4   \n",
       "\n",
       "  Monetary_score Segment  RFM_Score_sum   Lable_segment  Cluster  \n",
       "0              5     155             11  Loyal Customer        2  \n",
       "1              5     515             11     Big Spender        1  \n",
       "2              4     234              9     Big Spender        4  \n",
       "3              4     424             10     Big Spender        4  \n",
       "4              2     142              7  Loyal Customer        3  "
      ]
     },
     "execution_count": 80,
     "metadata": {},
     "output_type": "execute_result"
    }
   ],
   "source": [
    "RFM_SCORE.head()"
   ]
  },
  {
   "cell_type": "code",
   "execution_count": 81,
   "id": "7b43c24f-66a3-4d5e-adcf-a1cde60c0c5a",
   "metadata": {},
   "outputs": [
    {
     "data": {
      "text/html": [
       "<div>\n",
       "<style scoped>\n",
       "    .dataframe tbody tr th:only-of-type {\n",
       "        vertical-align: middle;\n",
       "    }\n",
       "\n",
       "    .dataframe tbody tr th {\n",
       "        vertical-align: top;\n",
       "    }\n",
       "\n",
       "    .dataframe thead tr th {\n",
       "        text-align: left;\n",
       "    }\n",
       "\n",
       "    .dataframe thead tr:last-of-type th {\n",
       "        text-align: right;\n",
       "    }\n",
       "</style>\n",
       "<table border=\"1\" class=\"dataframe\">\n",
       "  <thead>\n",
       "    <tr>\n",
       "      <th></th>\n",
       "      <th>Recency</th>\n",
       "      <th>Frequency</th>\n",
       "      <th colspan=\"2\" halign=\"left\">Monetary</th>\n",
       "    </tr>\n",
       "    <tr>\n",
       "      <th></th>\n",
       "      <th>mean</th>\n",
       "      <th>mean</th>\n",
       "      <th>mean</th>\n",
       "      <th>count</th>\n",
       "    </tr>\n",
       "    <tr>\n",
       "      <th>Cluster</th>\n",
       "      <th></th>\n",
       "      <th></th>\n",
       "      <th></th>\n",
       "      <th></th>\n",
       "    </tr>\n",
       "  </thead>\n",
       "  <tbody>\n",
       "    <tr>\n",
       "      <th>0</th>\n",
       "      <td>60.0</td>\n",
       "      <td>16.0</td>\n",
       "      <td>311.0</td>\n",
       "      <td>921</td>\n",
       "    </tr>\n",
       "    <tr>\n",
       "      <th>1</th>\n",
       "      <td>25.0</td>\n",
       "      <td>283.0</td>\n",
       "      <td>7041.0</td>\n",
       "      <td>912</td>\n",
       "    </tr>\n",
       "    <tr>\n",
       "      <th>2</th>\n",
       "      <td>232.0</td>\n",
       "      <td>42.0</td>\n",
       "      <td>969.0</td>\n",
       "      <td>545</td>\n",
       "    </tr>\n",
       "    <tr>\n",
       "      <th>3</th>\n",
       "      <td>275.0</td>\n",
       "      <td>9.0</td>\n",
       "      <td>206.0</td>\n",
       "      <td>474</td>\n",
       "    </tr>\n",
       "    <tr>\n",
       "      <th>4</th>\n",
       "      <td>44.0</td>\n",
       "      <td>66.0</td>\n",
       "      <td>1062.0</td>\n",
       "      <td>1486</td>\n",
       "    </tr>\n",
       "  </tbody>\n",
       "</table>\n",
       "</div>"
      ],
      "text/plain": [
       "        Recency Frequency Monetary      \n",
       "           mean      mean     mean count\n",
       "Cluster                                 \n",
       "0          60.0      16.0    311.0   921\n",
       "1          25.0     283.0   7041.0   912\n",
       "2         232.0      42.0    969.0   545\n",
       "3         275.0       9.0    206.0   474\n",
       "4          44.0      66.0   1062.0  1486"
      ]
     },
     "execution_count": 81,
     "metadata": {},
     "output_type": "execute_result"
    }
   ],
   "source": [
    "RFM_SCORE.groupby('Cluster').agg({'Recency': 'mean',\n",
    "                           'Frequency':'mean',\n",
    "                           'Monetary':['mean', 'count']}).round(0)"
   ]
  },
  {
   "cell_type": "markdown",
   "id": "f59796f5-a358-465e-9693-6ada554e613d",
   "metadata": {},
   "source": [
    "## 5.5 Cluster Visualization"
   ]
  },
  {
   "cell_type": "markdown",
   "id": "bd96dac1-7dcf-42ed-afb8-c0c02e910b20",
   "metadata": {},
   "source": [
    "## `Recency vs Monetary`"
   ]
  },
  {
   "cell_type": "code",
   "execution_count": 87,
   "id": "2c890a92-dda4-4e5a-a767-7c7af9ac5753",
   "metadata": {},
   "outputs": [
    {
     "data": {
      "image/png": "[encoded data removed]",
      "text/plain": [
       "<Figure size 800x600 with 1 Axes>"
      ]
     },
     "metadata": {},
     "output_type": "display_data"
    }
   ],
   "source": [
    "plt.figure(figsize=(8,6))\n",
    "sns.scatterplot(x=RFM_SCORE['Recency'], y=RFM_SCORE['Monetary'], hue=RFM_SCORE['Cluster'], palette='viridis', s=100)\n",
    "plt.title(\"Customer Segmentation Scatter Plot\")\n",
    "plt.xlabel(\"Recency (Days since last purchase)\")\n",
    "plt.ylabel(\"Monetary (Total Spend)\")\n",
    "plt.legend(title=\"Cluster\")\n",
    "plt.show()"
   ]
  },
  {
   "cell_type": "markdown",
   "id": "ecc90a2d-a2f8-4d54-bd20-73a089706375",
   "metadata": {},
   "source": [
    "`1. Most Customers Have Low Spending & Recent Purchases`\n",
    "A high density of customers is clustered near low recency (0–50 days) and low monetary value (bottom-left corner).\n",
    "\n",
    "These are new or recently active customers with low spending.\n",
    "\n",
    "Strategy: Encourage repeat purchases with loyalty programs, personalized recommendations, and first-time discounts.\n",
    "\n",
    "`2. High-Spending Customers Have Lower Recency`\n",
    "A few customers have very high total spend but their recency is low (close to 0 days).\n",
    "\n",
    "These are high-value, engaged customers who should be retained with premium services, early access to products, and exclusive offers.\n",
    "\n",
    "`3. Customers with High Recency & Low Monetary Value Are at Risk`\n",
    "Some customers have very high recency (100+ days) but low spending, indicating they haven’t purchased in a long time.\n",
    "\n",
    "Strategy: Win them back with re-engagement campaigns, special discounts, and targeted marketing.\n",
    "\n",
    "`4. Outliers with High Recency & High Spending`\n",
    "Some customers have not purchased for a long time (200+ days) but previously spent a lot.\n",
    "\n",
    "Potential Reasons: Bulk buyers, seasonal shoppers, or lost high-value customers.\n",
    "\n",
    "Strategy: Personalized outreach, exclusive win-back offers, and understanding their past purchase behavior.\n",
    "\n",
    "`5. Cluster Analysis & Business Strategy`\n",
    "`Cluster 0 & 1 (Dark Blue & Blue)`: Recently active customers with low spending—focus on increasing purchase frequency.\n",
    "\n",
    "`Cluster 2 & 3 (Green & Teal)`: Customers with moderate spending and varying recency—convert them into loyal buyers.\n",
    "\n",
    "`Cluster 4 (Yellow – At Risk or Lost Customers):` High recency, low spending—win them back with targeted promotions."
   ]
  },
  {
   "cell_type": "markdown",
   "id": "97b5a1fd-dc69-4b53-acab-198a409e146d",
   "metadata": {},
   "source": [
    "## `Recency vs Frequency`"
   ]
  },
  {
   "cell_type": "code",
   "execution_count": 89,
   "id": "96831a91-16a3-4db9-a5b2-fb8a5dccab38",
   "metadata": {},
   "outputs": [
    {
     "data": {
      "image/png": "[encoded data removed]",
      "text/plain": [
       "<Figure size 800x600 with 1 Axes>"
      ]
     },
     "metadata": {},
     "output_type": "display_data"
    }
   ],
   "source": [
    "plt.figure(figsize=(8,6))\n",
    "sns.scatterplot(x=RFM_SCORE['Recency'], y=RFM_SCORE['Frequency'], hue=RFM_SCORE['Cluster'], palette='viridis', s=100)\n",
    "plt.title(\"Customer Segmentation Scatter Plot\")\n",
    "plt.xlabel(\"Recency (Days since last purchase)\")\n",
    "plt.ylabel(\"Frequency\")\n",
    "plt.legend(title=\"Cluster\")\n",
    "plt.show()"
   ]
  },
  {
   "cell_type": "markdown",
   "id": "81808849-0ee5-44a9-8b0f-9d8649f40e71",
   "metadata": {},
   "source": [
    "`1. Most Customers Have Low Frequency & Recent Purchases`\n",
    "A large number of customers have a low purchase frequency (close to 0) and a low recency value (0–50 days).\n",
    "\n",
    "These are new or recently engaged customers who have made only a few purchases.\n",
    "\n",
    "Strategy: Encourage repeat buying with loyalty programs, email reminders, and personalized discounts.\n",
    "\n",
    "`2. High-Frequency Customers Are More Recent Buyers`\n",
    "A few customers have very high purchase frequency (above 1000) and low recency values (close to 0 days).\n",
    "\n",
    "These customers are highly engaged and repeat buyers, likely forming a core loyal segment.\n",
    "\n",
    "Strategy: Retain them with exclusive offers, VIP benefits, and premium services.\n",
    "\n",
    "`3. Customers with High Recency & Low Frequency Are At Risk`\n",
    "Some customers have not purchased for a long time (150+ days) and also have very low frequency.\n",
    "\n",
    "These are inactive or lost customers who may have disengaged from the business.\n",
    "\n",
    "Strategy: Target them with reactivation campaigns, limited-time discounts, and personalized outreach.\n",
    "\n",
    "`4. Outliers with High Frequency & High Recency`\n",
    "There are very few customers with both high frequency and high recency (250+ days without purchase).\n",
    "\n",
    "These could be seasonal shoppers or one-time bulk buyers who haven’t returned.\n",
    "\n",
    "Strategy: Analyze their past behavior and send relevant offers based on their interests.\n",
    "\n",
    "`5. Cluster Analysis & Business Strategy`\n",
    "`Cluster 0 & 1 (Dark Blue & Blue):` Customers with low frequency and varying recency—focus on increasing their engagement.\n",
    "\n",
    "`Cluster 2 & 3 (Green & Teal):` Moderate frequency customers who could be converted into long-term repeat buyers.\n",
    "\n",
    "`Cluster 4 (Yellow – At Risk or Lost Customers):` High recency, low frequency—win them back with targeted promotions."
   ]
  },
  {
   "cell_type": "markdown",
   "id": "1387c1ce-a695-4bee-bb30-b75376cbcdd5",
   "metadata": {},
   "source": [
    "## `Monetary vs Frequency`"
   ]
  },
  {
   "cell_type": "code",
   "execution_count": 90,
   "id": "7bf0b21e-6757-43a4-9652-6d410aacd235",
   "metadata": {},
   "outputs": [
    {
     "data": {
      "image/png": "[encoded data removed]",
      "text/plain": [
       "<Figure size 800x600 with 1 Axes>"
      ]
     },
     "metadata": {},
     "output_type": "display_data"
    }
   ],
   "source": [
    "plt.figure(figsize=(8,6))\n",
    "sns.scatterplot(x=RFM_SCORE['Monetary'], y=RFM_SCORE['Frequency'], hue=RFM_SCORE['Cluster'], palette='viridis', s=100)\n",
    "plt.title(\"Customer Segmentation Scatter Plot\")\n",
    "plt.xlabel('Monetary')\n",
    "plt.ylabel(\"Frequency\")\n",
    "plt.legend(title=\"Cluster\")\n",
    "plt.show()"
   ]
  },
  {
   "cell_type": "markdown",
   "id": "2a849855-fdb4-4855-af88-71dc17237885",
   "metadata": {},
   "source": [
    "`Cluster Distribution & Density:`\n",
    "\n",
    "Most customers are concentrated in the lower Monetary (spending) and Frequency (purchase count) range, indicating that the majority of customers are low-spenders with infrequent purchases.\n",
    "\n",
    "A few high-frequency customers exist, suggesting a small group of highly engaged buyers.\n",
    "\n",
    "`High-Spending, Low-Frequency Customers (Top Right Area):`\n",
    "\n",
    "Some customers have high Monetary value but low Frequency, meaning they make large, infrequent purchases.\n",
    "\n",
    "These could be big-ticket buyers who spend a lot but shop less often.\n",
    "\n",
    "Strategy: Personalized promotions, exclusive discounts, or loyalty perks to increase their purchase frequency.\n",
    "\n",
    "`High-Frequency, Moderate-Spending Customers (Top Left):`\n",
    "\n",
    "A few customers show very high frequency but moderate spending, indicating they shop often but spend smaller amounts per transaction.\n",
    "\n",
    "Strategy: Upselling and cross-selling strategies, bundle deals, or premium memberships to increase their spending.\n",
    "\n",
    "`Low-Spending, Low-Frequency Customers (Bottom Left – Majority):`\n",
    "\n",
    "This segment represents casual shoppers who neither buy often nor spend much.\n",
    "\n",
    "Strategy: Implement targeted marketing, discounts, or re-engagement campaigns to convert them into repeat buyers.\n",
    "\n",
    "`Cluster Differentiation & Business Impact:`\n",
    "\n",
    "`Cluster 0 & 1 (Dark Blue & Blue):` Represent the majority of customers who are low spenders and infrequent buyers.\n",
    "\n",
    "`Cluster 2 & 3 (Green & Teal):` Moderate spenders with slightly better engagement—potential for growth.\n",
    "\n",
    "`Cluster 4 (Yellow – Outliers):` Likely the most valuable customers with high spending or purchase frequency—should be prioritized for retention efforts."
   ]
  },
  {
   "cell_type": "markdown",
   "id": "79796f63-bb67-4617-a311-6cfd58e0d305",
   "metadata": {},
   "source": [
    "# `6 Summary`"
   ]
  },
  {
   "cell_type": "markdown",
   "id": "e32d8982-040d-41bd-870d-d5c939fa877f",
   "metadata": {},
   "source": [
    "## 1. `Customer Segmentation Overview`\n",
    "The segmentation results categorize customers into six distinct groups based on their purchasing behavior:\n",
    "\n",
    "     Loyal Customers (1,687 customers): These customers make frequent purchases and maintain a strong relationship with the business.\n",
    "\n",
    "     Big Spenders (1,603 customers): Customers who spend a high amount per transaction, contributing significantly to revenue.\n",
    "\n",
    "     Almost Lost (462 customers): Customers who previously engaged but have significantly reduced their purchases, indicating a risk of churn.\n",
    "\n",
    "     New Low Spenders (372 customers): Recently acquired customers with low purchase frequency and spending.\n",
    "\n",
    "     Lost Customers (166 customers): Customers who have stopped making purchases for a long time, showing signs of complete disengagement.\n",
    "\n",
    "     Best Customers (48 customers): The most valuable customers who purchase frequently and spend the highest amounts.\n",
    "\n",
    "## 2. `Business Insights & Recommendations`\n",
    "    \n",
    "    Retention Strategy for Loyal Customers: Implement loyalty programs, exclusive discounts, and personalized offers to maintain their engagement and increase their lifetime value.\n",
    "\n",
    "    Upselling & Cross-Selling to Big Spenders: Recommend premium products or bundled deals to encourage higher spending per transaction. Personalized marketing can maximize revenue from this segment.\n",
    "\n",
    "    Re-engagement for Almost Lost Customers: Targeted email campaigns, limited-time discounts, or reminder notifications can help bring these customers back.\n",
    "\n",
    "    Nurturing New Low Spenders: Encourage repeat purchases through first-time buyer discounts, referral programs, and email reminders to turn them into long-term customers.\n",
    "\n",
    "    Reviving Lost Customers: Analyze their past buying behavior and send personalized win-back campaigns with special offers to re-engage them.\n",
    "\n",
    "    VIP Experience for Best Customers: Provide exclusive benefits such as early access to new products, premium customer service, or loyalty rewards to maintain their high spending and frequency."
   ]
  },
  {
   "cell_type": "code",
   "execution_count": null,
   "id": "34c22cdf-41eb-462a-ab22-35931efe688e",
   "metadata": {},
   "outputs": [],
   "source": []
  },
  {
   "cell_type": "code",
   "execution_count": null,
   "id": "281d872a-be79-4a60-9d26-20cea473baed",
   "metadata": {},
   "outputs": [],
   "source": []
  }
 ],
 "metadata": {
  "kernelspec": {
   "display_name": "Python 3 (ipykernel)",
   "language": "python",
   "name": "python3"
  },
  "language_info": {
   "codemirror_mode": {
    "name": "ipython",
    "version": 3
   },
   "file_extension": ".py",
   "mimetype": "text/x-python",
   "name": "python",
   "nbconvert_exporter": "python",
   "pygments_lexer": "ipython3",
   "version": "3.12.7"
  }
 },
 "nbformat": 4,
 "nbformat_minor": 5
}
